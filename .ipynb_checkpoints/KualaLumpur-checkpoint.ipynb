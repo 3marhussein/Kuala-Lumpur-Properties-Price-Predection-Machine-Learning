{
 "cells": [
  {
   "cell_type": "markdown",
   "id": "eb1432c5",
   "metadata": {},
   "source": [
    "# Kuala Lumpur Properties"
   ]
  },
  {
   "cell_type": "markdown",
   "id": "5bbd70f2",
   "metadata": {},
   "source": [
    "## Importing the libraries"
   ]
  },
  {
   "cell_type": "code",
   "execution_count": 1,
   "id": "b5a82038",
   "metadata": {},
   "outputs": [],
   "source": [
    "import numpy as np\n",
    "np.random.seed(101)\n",
    "import requests\n",
    "import time\n",
    "import os\n",
    "from bs4 import BeautifulSoup\n",
    "import pandas as pd\n",
    "import re\n",
    "import seaborn as sns\n",
    "%matplotlib inline\n",
    "import matplotlib.pyplot as plt\n",
    "import sklearn.model_selection\n",
    "import sklearn.linear_model\n",
    "import sklearn.feature_selection\n",
    "import sklearn.preprocessing\n",
    "import sklearn.metrics"
   ]
  },
  {
   "cell_type": "markdown",
   "id": "dabf3c0f",
   "metadata": {},
   "source": [
    "## importing the data"
   ]
  },
  {
   "cell_type": "code",
   "execution_count": 2,
   "id": "9b4b7a49",
   "metadata": {},
   "outputs": [],
   "source": [
    "property = pd.read_csv('house_data.csv')"
   ]
  },
  {
   "cell_type": "code",
   "execution_count": 3,
   "id": "c377298b",
   "metadata": {},
   "outputs": [
    {
     "data": {
      "text/html": [
       "<div>\n",
       "<style scoped>\n",
       "    .dataframe tbody tr th:only-of-type {\n",
       "        vertical-align: middle;\n",
       "    }\n",
       "\n",
       "    .dataframe tbody tr th {\n",
       "        vertical-align: top;\n",
       "    }\n",
       "\n",
       "    .dataframe thead th {\n",
       "        text-align: right;\n",
       "    }\n",
       "</style>\n",
       "<table border=\"1\" class=\"dataframe\">\n",
       "  <thead>\n",
       "    <tr style=\"text-align: right;\">\n",
       "      <th></th>\n",
       "      <th>Location</th>\n",
       "      <th>Price</th>\n",
       "      <th>Rooms</th>\n",
       "      <th>Bathrooms</th>\n",
       "      <th>Car Parks</th>\n",
       "      <th>Property Type</th>\n",
       "      <th>Size</th>\n",
       "      <th>Furnishing</th>\n",
       "    </tr>\n",
       "  </thead>\n",
       "  <tbody>\n",
       "    <tr>\n",
       "      <th>0</th>\n",
       "      <td>KLCC, Kuala Lumpur</td>\n",
       "      <td>RM 1,250,000</td>\n",
       "      <td>2+1</td>\n",
       "      <td>3.0</td>\n",
       "      <td>2.0</td>\n",
       "      <td>Serviced Residence</td>\n",
       "      <td>Built-up : 1,335 sq. ft.</td>\n",
       "      <td>Fully Furnished</td>\n",
       "    </tr>\n",
       "    <tr>\n",
       "      <th>1</th>\n",
       "      <td>Damansara Heights, Kuala Lumpur</td>\n",
       "      <td>RM 6,800,000</td>\n",
       "      <td>6</td>\n",
       "      <td>7.0</td>\n",
       "      <td>NaN</td>\n",
       "      <td>Bungalow</td>\n",
       "      <td>Land area : 6900 sq. ft.</td>\n",
       "      <td>Partly Furnished</td>\n",
       "    </tr>\n",
       "    <tr>\n",
       "      <th>2</th>\n",
       "      <td>Dutamas, Kuala Lumpur</td>\n",
       "      <td>RM 1,030,000</td>\n",
       "      <td>3</td>\n",
       "      <td>4.0</td>\n",
       "      <td>2.0</td>\n",
       "      <td>Condominium (Corner)</td>\n",
       "      <td>Built-up : 1,875 sq. ft.</td>\n",
       "      <td>Partly Furnished</td>\n",
       "    </tr>\n",
       "    <tr>\n",
       "      <th>3</th>\n",
       "      <td>Cheras, Kuala Lumpur</td>\n",
       "      <td>NaN</td>\n",
       "      <td>NaN</td>\n",
       "      <td>NaN</td>\n",
       "      <td>NaN</td>\n",
       "      <td>NaN</td>\n",
       "      <td>NaN</td>\n",
       "      <td>NaN</td>\n",
       "    </tr>\n",
       "    <tr>\n",
       "      <th>4</th>\n",
       "      <td>Bukit Jalil, Kuala Lumpur</td>\n",
       "      <td>RM 900,000</td>\n",
       "      <td>4+1</td>\n",
       "      <td>3.0</td>\n",
       "      <td>2.0</td>\n",
       "      <td>Condominium (Corner)</td>\n",
       "      <td>Built-up : 1,513 sq. ft.</td>\n",
       "      <td>Partly Furnished</td>\n",
       "    </tr>\n",
       "  </tbody>\n",
       "</table>\n",
       "</div>"
      ],
      "text/plain": [
       "                          Location         Price Rooms  Bathrooms  Car Parks  \\\n",
       "0               KLCC, Kuala Lumpur  RM 1,250,000   2+1        3.0        2.0   \n",
       "1  Damansara Heights, Kuala Lumpur  RM 6,800,000     6        7.0        NaN   \n",
       "2            Dutamas, Kuala Lumpur  RM 1,030,000     3        4.0        2.0   \n",
       "3             Cheras, Kuala Lumpur           NaN   NaN        NaN        NaN   \n",
       "4        Bukit Jalil, Kuala Lumpur    RM 900,000   4+1        3.0        2.0   \n",
       "\n",
       "          Property Type                      Size        Furnishing  \n",
       "0    Serviced Residence  Built-up : 1,335 sq. ft.   Fully Furnished  \n",
       "1              Bungalow  Land area : 6900 sq. ft.  Partly Furnished  \n",
       "2  Condominium (Corner)  Built-up : 1,875 sq. ft.  Partly Furnished  \n",
       "3                   NaN                       NaN               NaN  \n",
       "4  Condominium (Corner)  Built-up : 1,513 sq. ft.  Partly Furnished  "
      ]
     },
     "execution_count": 3,
     "metadata": {},
     "output_type": "execute_result"
    }
   ],
   "source": [
    "property.head()"
   ]
  },
  {
   "cell_type": "code",
   "execution_count": 4,
   "id": "239966b7",
   "metadata": {},
   "outputs": [
    {
     "data": {
      "text/plain": [
       "(53883, 8)"
      ]
     },
     "execution_count": 4,
     "metadata": {},
     "output_type": "execute_result"
    }
   ],
   "source": [
    "property.shape"
   ]
  },
  {
   "cell_type": "code",
   "execution_count": 5,
   "id": "155591ce",
   "metadata": {},
   "outputs": [],
   "source": [
    "# function to remove the currency symbol\n",
    "def remove_currency(currency_string, input_string):\n",
    "    output_string = re.sub(currency_string,'',input_string)\n",
    "    return(output_string)"
   ]
  },
  {
   "cell_type": "code",
   "execution_count": 6,
   "id": "adf242ed",
   "metadata": {},
   "outputs": [],
   "source": [
    "# function to remove everything after the space in a string\n",
    "def remove_after_space(input_string):\n",
    "    # remove leading and trailing spaces\n",
    "    input_string = input_string.strip()\n",
    "    #print('input:', input_string)\n",
    "    # remove everything after internal spaces\n",
    "    output_string = re.sub(r'\\s* .*', '', input_string)\n",
    "    output_string = re.sub(r'\\([^)]*\\)','',output_string)\n",
    "    #print('output:',output_string)\n",
    "    return(output_string)"
   ]
  },
  {
   "cell_type": "code",
   "execution_count": 7,
   "id": "53ab768d",
   "metadata": {},
   "outputs": [
    {
     "data": {
      "text/plain": [
       "(53883, 8)"
      ]
     },
     "execution_count": 7,
     "metadata": {},
     "output_type": "execute_result"
    }
   ],
   "source": [
    "property.shape"
   ]
  },
  {
   "cell_type": "markdown",
   "id": "14d17630",
   "metadata": {},
   "source": [
    "## Cleaning Data"
   ]
  },
  {
   "cell_type": "markdown",
   "id": "0a013c08",
   "metadata": {},
   "source": [
    "### Price"
   ]
  },
  {
   "cell_type": "code",
   "execution_count": 8,
   "id": "49e01a5b",
   "metadata": {},
   "outputs": [
    {
     "data": {
      "text/html": [
       "<div>\n",
       "<style scoped>\n",
       "    .dataframe tbody tr th:only-of-type {\n",
       "        vertical-align: middle;\n",
       "    }\n",
       "\n",
       "    .dataframe tbody tr th {\n",
       "        vertical-align: top;\n",
       "    }\n",
       "\n",
       "    .dataframe thead th {\n",
       "        text-align: right;\n",
       "    }\n",
       "</style>\n",
       "<table border=\"1\" class=\"dataframe\">\n",
       "  <thead>\n",
       "    <tr style=\"text-align: right;\">\n",
       "      <th></th>\n",
       "      <th>Location</th>\n",
       "      <th>Price</th>\n",
       "      <th>Rooms</th>\n",
       "      <th>Bathrooms</th>\n",
       "      <th>Car Parks</th>\n",
       "      <th>Property Type</th>\n",
       "      <th>Size</th>\n",
       "      <th>Furnishing</th>\n",
       "    </tr>\n",
       "  </thead>\n",
       "  <tbody>\n",
       "    <tr>\n",
       "      <th>0</th>\n",
       "      <td>KLCC, Kuala Lumpur</td>\n",
       "      <td>1250000</td>\n",
       "      <td>2+1</td>\n",
       "      <td>3.0</td>\n",
       "      <td>2.0</td>\n",
       "      <td>Serviced Residence</td>\n",
       "      <td>Built-up : 1,335 sq. ft.</td>\n",
       "      <td>Fully Furnished</td>\n",
       "    </tr>\n",
       "    <tr>\n",
       "      <th>1</th>\n",
       "      <td>Damansara Heights, Kuala Lumpur</td>\n",
       "      <td>6800000</td>\n",
       "      <td>6</td>\n",
       "      <td>7.0</td>\n",
       "      <td>NaN</td>\n",
       "      <td>Bungalow</td>\n",
       "      <td>Land area : 6900 sq. ft.</td>\n",
       "      <td>Partly Furnished</td>\n",
       "    </tr>\n",
       "    <tr>\n",
       "      <th>2</th>\n",
       "      <td>Dutamas, Kuala Lumpur</td>\n",
       "      <td>1030000</td>\n",
       "      <td>3</td>\n",
       "      <td>4.0</td>\n",
       "      <td>2.0</td>\n",
       "      <td>Condominium (Corner)</td>\n",
       "      <td>Built-up : 1,875 sq. ft.</td>\n",
       "      <td>Partly Furnished</td>\n",
       "    </tr>\n",
       "    <tr>\n",
       "      <th>4</th>\n",
       "      <td>Bukit Jalil, Kuala Lumpur</td>\n",
       "      <td>900000</td>\n",
       "      <td>4+1</td>\n",
       "      <td>3.0</td>\n",
       "      <td>2.0</td>\n",
       "      <td>Condominium (Corner)</td>\n",
       "      <td>Built-up : 1,513 sq. ft.</td>\n",
       "      <td>Partly Furnished</td>\n",
       "    </tr>\n",
       "    <tr>\n",
       "      <th>5</th>\n",
       "      <td>Taman Tun Dr Ismail, Kuala Lumpur</td>\n",
       "      <td>5350000</td>\n",
       "      <td>4+2</td>\n",
       "      <td>5.0</td>\n",
       "      <td>4.0</td>\n",
       "      <td>Bungalow</td>\n",
       "      <td>Land area : 7200 sq. ft.</td>\n",
       "      <td>Partly Furnished</td>\n",
       "    </tr>\n",
       "  </tbody>\n",
       "</table>\n",
       "</div>"
      ],
      "text/plain": [
       "                            Location    Price Rooms  Bathrooms  Car Parks  \\\n",
       "0                 KLCC, Kuala Lumpur  1250000   2+1        3.0        2.0   \n",
       "1    Damansara Heights, Kuala Lumpur  6800000     6        7.0        NaN   \n",
       "2              Dutamas, Kuala Lumpur  1030000     3        4.0        2.0   \n",
       "4          Bukit Jalil, Kuala Lumpur   900000   4+1        3.0        2.0   \n",
       "5  Taman Tun Dr Ismail, Kuala Lumpur  5350000   4+2        5.0        4.0   \n",
       "\n",
       "          Property Type                      Size        Furnishing  \n",
       "0    Serviced Residence  Built-up : 1,335 sq. ft.   Fully Furnished  \n",
       "1              Bungalow  Land area : 6900 sq. ft.  Partly Furnished  \n",
       "2  Condominium (Corner)  Built-up : 1,875 sq. ft.  Partly Furnished  \n",
       "4  Condominium (Corner)  Built-up : 1,513 sq. ft.  Partly Furnished  \n",
       "5              Bungalow  Land area : 7200 sq. ft.  Partly Furnished  "
      ]
     },
     "execution_count": 8,
     "metadata": {},
     "output_type": "execute_result"
    }
   ],
   "source": [
    "# remove rows with missing Price values\n",
    "property.dropna(subset=['Price'], inplace=True)\n",
    "# remove currency symbol from remaining rows\n",
    "property['Price'] = property['Price'].apply(lambda x: remove_currency(\"RM \",x))\n",
    "\n",
    "\n",
    "# convert Price column to float\n",
    "property['Price'] = pd.to_numeric(property['Price'].str.replace(',',''), errors='coerce')\n",
    "property.head()"
   ]
  },
  {
   "cell_type": "code",
   "execution_count": 9,
   "id": "e072804c",
   "metadata": {},
   "outputs": [
    {
     "data": {
      "text/plain": [
       "398"
      ]
     },
     "execution_count": 9,
     "metadata": {},
     "output_type": "execute_result"
    }
   ],
   "source": [
    "# count how many Price values are very small\n",
    "property[property.Price <= 10000].shape[0]"
   ]
  },
  {
   "cell_type": "code",
   "execution_count": 10,
   "id": "c9facd6d",
   "metadata": {},
   "outputs": [],
   "source": [
    "# convert Price to float\n",
    "property['Price'] = property['Price'].astype(float)"
   ]
  },
  {
   "cell_type": "code",
   "execution_count": 11,
   "id": "2f05a2d3",
   "metadata": {},
   "outputs": [
    {
     "data": {
      "text/plain": [
       "0        1250000.0\n",
       "1        6800000.0\n",
       "2        1030000.0\n",
       "4         900000.0\n",
       "5        5350000.0\n",
       "           ...    \n",
       "53878    5100000.0\n",
       "53879    5000000.0\n",
       "53880    5500000.0\n",
       "53881     480000.0\n",
       "53882     540000.0\n",
       "Name: Price, Length: 53635, dtype: float64"
      ]
     },
     "execution_count": 11,
     "metadata": {},
     "output_type": "execute_result"
    }
   ],
   "source": [
    "property[\"Price\"]"
   ]
  },
  {
   "cell_type": "markdown",
   "id": "a647a618",
   "metadata": {},
   "source": [
    "### Size"
   ]
  },
  {
   "cell_type": "code",
   "execution_count": 12,
   "id": "d1b5287c",
   "metadata": {},
   "outputs": [
    {
     "data": {
      "text/plain": [
       "0        Built-up : 1,335 sq. ft.\n",
       "1        Land area : 6900 sq. ft.\n",
       "2        Built-up : 1,875 sq. ft.\n",
       "4        Built-up : 1,513 sq. ft.\n",
       "5        Land area : 7200 sq. ft.\n",
       "7        Land area : 3600 sq. ft.\n",
       "8       Land area : 25x75 sq. ft.\n",
       "9          Built-up : 904 sq. ft.\n",
       "11    Land area : 22 x 80 sq. ft.\n",
       "12       Land area : 1900 sq. ft.\n",
       "Name: Size, dtype: object"
      ]
     },
     "execution_count": 12,
     "metadata": {},
     "output_type": "execute_result"
    }
   ],
   "source": [
    "property['Size'].head(10)"
   ]
  },
  {
   "cell_type": "code",
   "execution_count": 13,
   "id": "e1085c7f",
   "metadata": {},
   "outputs": [
    {
     "data": {
      "text/plain": [
       "(53635, 8)"
      ]
     },
     "execution_count": 13,
     "metadata": {},
     "output_type": "execute_result"
    }
   ],
   "source": [
    "property.shape"
   ]
  },
  {
   "cell_type": "code",
   "execution_count": 14,
   "id": "3ef58be1",
   "metadata": {},
   "outputs": [],
   "source": [
    "# drop rows with missing values in the Size column\n",
    "property.dropna(subset=['Size'], inplace=True)"
   ]
  },
  {
   "cell_type": "code",
   "execution_count": 15,
   "id": "73c62555",
   "metadata": {},
   "outputs": [
    {
     "data": {
      "text/html": [
       "<div>\n",
       "<style scoped>\n",
       "    .dataframe tbody tr th:only-of-type {\n",
       "        vertical-align: middle;\n",
       "    }\n",
       "\n",
       "    .dataframe tbody tr th {\n",
       "        vertical-align: top;\n",
       "    }\n",
       "\n",
       "    .dataframe thead th {\n",
       "        text-align: right;\n",
       "    }\n",
       "</style>\n",
       "<table border=\"1\" class=\"dataframe\">\n",
       "  <thead>\n",
       "    <tr style=\"text-align: right;\">\n",
       "      <th></th>\n",
       "      <th>Location</th>\n",
       "      <th>Price</th>\n",
       "      <th>Rooms</th>\n",
       "      <th>Bathrooms</th>\n",
       "      <th>Car Parks</th>\n",
       "      <th>Property Type</th>\n",
       "      <th>Size</th>\n",
       "      <th>Furnishing</th>\n",
       "    </tr>\n",
       "  </thead>\n",
       "  <tbody>\n",
       "    <tr>\n",
       "      <th>996</th>\n",
       "      <td>Desa ParkCity, Kuala Lumpur</td>\n",
       "      <td>3880000.0</td>\n",
       "      <td>5+1</td>\n",
       "      <td>6.0</td>\n",
       "      <td>NaN</td>\n",
       "      <td>3-sty Terrace/Link House</td>\n",
       "      <td>Land area : Kuala Lumpur sq. ft.</td>\n",
       "      <td>Partly Furnished</td>\n",
       "    </tr>\n",
       "    <tr>\n",
       "      <th>1006</th>\n",
       "      <td>Desa ParkCity, Kuala Lumpur</td>\n",
       "      <td>1800000.0</td>\n",
       "      <td>3+1</td>\n",
       "      <td>3.0</td>\n",
       "      <td>NaN</td>\n",
       "      <td>Condominium</td>\n",
       "      <td>Land area : Kuala Lumpur sq. ft.</td>\n",
       "      <td>Partly Furnished</td>\n",
       "    </tr>\n",
       "    <tr>\n",
       "      <th>1183</th>\n",
       "      <td>Desa ParkCity, Kuala Lumpur</td>\n",
       "      <td>2800000.0</td>\n",
       "      <td>3+1</td>\n",
       "      <td>4.0</td>\n",
       "      <td>NaN</td>\n",
       "      <td>3-sty Terrace/Link House (Intermediate)</td>\n",
       "      <td>Land area : Kuala Lumpur sq. ft.</td>\n",
       "      <td>Partly Furnished</td>\n",
       "    </tr>\n",
       "    <tr>\n",
       "      <th>2506</th>\n",
       "      <td>Pantai, Kuala Lumpur</td>\n",
       "      <td>5500000.0</td>\n",
       "      <td>4+1</td>\n",
       "      <td>5.0</td>\n",
       "      <td>NaN</td>\n",
       "      <td>Bungalow</td>\n",
       "      <td>Land area : Malaysia sq. ft.</td>\n",
       "      <td>NaN</td>\n",
       "    </tr>\n",
       "    <tr>\n",
       "      <th>3319</th>\n",
       "      <td>KLCC, Kuala Lumpur</td>\n",
       "      <td>1400000.0</td>\n",
       "      <td>Studio</td>\n",
       "      <td>1.0</td>\n",
       "      <td>NaN</td>\n",
       "      <td>Serviced Residence (Intermediate)</td>\n",
       "      <td>Land area : - sq. ft.</td>\n",
       "      <td>Partly Furnished</td>\n",
       "    </tr>\n",
       "  </tbody>\n",
       "</table>\n",
       "</div>"
      ],
      "text/plain": [
       "                         Location      Price   Rooms  Bathrooms  Car Parks  \\\n",
       "996   Desa ParkCity, Kuala Lumpur  3880000.0     5+1        6.0        NaN   \n",
       "1006  Desa ParkCity, Kuala Lumpur  1800000.0     3+1        3.0        NaN   \n",
       "1183  Desa ParkCity, Kuala Lumpur  2800000.0     3+1        4.0        NaN   \n",
       "2506         Pantai, Kuala Lumpur  5500000.0     4+1        5.0        NaN   \n",
       "3319           KLCC, Kuala Lumpur  1400000.0  Studio        1.0        NaN   \n",
       "\n",
       "                                Property Type  \\\n",
       "996                  3-sty Terrace/Link House   \n",
       "1006                              Condominium   \n",
       "1183  3-sty Terrace/Link House (Intermediate)   \n",
       "2506                                 Bungalow   \n",
       "3319        Serviced Residence (Intermediate)   \n",
       "\n",
       "                                  Size        Furnishing  \n",
       "996   Land area : Kuala Lumpur sq. ft.  Partly Furnished  \n",
       "1006  Land area : Kuala Lumpur sq. ft.  Partly Furnished  \n",
       "1183  Land area : Kuala Lumpur sq. ft.  Partly Furnished  \n",
       "2506      Land area : Malaysia sq. ft.               NaN  \n",
       "3319             Land area : - sq. ft.  Partly Furnished  "
      ]
     },
     "execution_count": 15,
     "metadata": {},
     "output_type": "execute_result"
    }
   ],
   "source": [
    "#show examples of rows where the Size column has no digits\n",
    "property[~property.Size.str.contains(r'\\d')].head()"
   ]
  },
  {
   "cell_type": "code",
   "execution_count": 16,
   "id": "313c96f2",
   "metadata": {},
   "outputs": [
    {
     "data": {
      "text/plain": [
       "(50, 8)"
      ]
     },
     "execution_count": 16,
     "metadata": {},
     "output_type": "execute_result"
    }
   ],
   "source": [
    "# get the count of rows where the Size column has no digits\n",
    "property[~property.Size.str.contains(r'\\d')].shape"
   ]
  },
  {
   "cell_type": "code",
   "execution_count": 17,
   "id": "e724c157",
   "metadata": {},
   "outputs": [],
   "source": [
    "def clean_up_size(property,clean_up_list):\n",
    "    \n",
    "    '''\n",
    "    For the Size column:\n",
    "    - lowercase values \n",
    "    - split the dimension values from the size type values\n",
    "    - remove records with no numeric values\n",
    "    - remove records with problematic values in clean_up_list\n",
    "    '''\n",
    "     # lowercase values in the Size column\n",
    "    property['Size'] = property['Size'].str.lower()\n",
    "    \n",
    "    # split the Size column into two columns\n",
    "    property[['Size_type','Size']] = property['Size'].str.split(':',expand=True)\n",
    "    \n",
    "    # replace missing values in the Size column with 0\n",
    "    property['Size'] = property['Size'].fillna(\"0\")\n",
    "    \n",
    "     # remove rows from Size that do not contain any digits\n",
    "    property = property[property.Size.str.contains(r'\\d')]\n",
    "    \n",
    "    # remove rows from Size that contain substrings from the clean_up_list\n",
    "    for string in clean_up_list:\n",
    "        property = property[~property.Size.str.contains(string,na=False)]\n",
    "    \n",
    "    # replace extraneous characters so that all Size entries are either numeric or of the form \"numerica * numericb\"\n",
    "    property['Size'] = property['Size'].str.replace(',','').str.replace('`','').str.replace('@','x').str.replace('\\+ sq. ft.','')\n",
    "    \n",
    "    property['Size'] = property['Size'].str.replace(' sq. ft.','').str.replace('sf sq. ft.','').str.replace('ft','').str.replace('sq','').str.replace(\"xx\",\"*\").str.replace(\"x \",\"*\").str.replace(\" x\",\"*\").str.replace(\"x\",\"*\").str.replace(\"X\",\"*\").replace('\\'','')\n",
    "    \n",
    "     # remove extraneous characters following spaces\n",
    "    property['Size'] = property['Size'].apply(lambda x: remove_after_space(x))\n",
    "    \n",
    "    # apply transformation to replace \"numerica * numericb\" with the result of the multiplication\n",
    "    property['Size'] = property['Size'].apply(lambda x: eval(str(x)))\n",
    "    return(property)"
   ]
  },
  {
   "cell_type": "code",
   "execution_count": 18,
   "id": "353039f8",
   "metadata": {},
   "outputs": [
    {
     "name": "stderr",
     "output_type": "stream",
     "text": [
      "C:\\Users\\Omar Hussein\\AppData\\Local\\Temp\\ipykernel_1732\\4119905816.py:27: FutureWarning: The default value of regex will change from True to False in a future version.\n",
      "  property['Size'] = property['Size'].str.replace(',','').str.replace('`','').str.replace('@','x').str.replace('\\+ sq. ft.','')\n",
      "C:\\Users\\Omar Hussein\\AppData\\Local\\Temp\\ipykernel_1732\\4119905816.py:29: FutureWarning: The default value of regex will change from True to False in a future version.\n",
      "  property['Size'] = property['Size'].str.replace(' sq. ft.','').str.replace('sf sq. ft.','').str.replace('ft','').str.replace('sq','').str.replace(\"xx\",\"*\").str.replace(\"x \",\"*\").str.replace(\" x\",\"*\").str.replace(\"x\",\"*\").str.replace(\"X\",\"*\").replace('\\'','')\n"
     ]
    }
   ],
   "source": [
    "# call the function to perform all the clean up steps on the size column\n",
    "clean_up_list = [\"-\",\"\\+\",'\\'','\\~',\"xx\",\"sf\",\"acre\",\"#\"]\n",
    "property = clean_up_size(property,clean_up_list)"
   ]
  },
  {
   "cell_type": "code",
   "execution_count": 19,
   "id": "7e7c4753",
   "metadata": {},
   "outputs": [
    {
     "data": {
      "text/plain": [
       "(52309, 9)"
      ]
     },
     "execution_count": 19,
     "metadata": {},
     "output_type": "execute_result"
    }
   ],
   "source": [
    "property.shape"
   ]
  },
  {
   "cell_type": "code",
   "execution_count": 20,
   "id": "6836753a",
   "metadata": {},
   "outputs": [
    {
     "data": {
      "text/html": [
       "<div>\n",
       "<style scoped>\n",
       "    .dataframe tbody tr th:only-of-type {\n",
       "        vertical-align: middle;\n",
       "    }\n",
       "\n",
       "    .dataframe tbody tr th {\n",
       "        vertical-align: top;\n",
       "    }\n",
       "\n",
       "    .dataframe thead th {\n",
       "        text-align: right;\n",
       "    }\n",
       "</style>\n",
       "<table border=\"1\" class=\"dataframe\">\n",
       "  <thead>\n",
       "    <tr style=\"text-align: right;\">\n",
       "      <th></th>\n",
       "      <th>Location</th>\n",
       "      <th>Price</th>\n",
       "      <th>Rooms</th>\n",
       "      <th>Bathrooms</th>\n",
       "      <th>Car Parks</th>\n",
       "      <th>Property Type</th>\n",
       "      <th>Size</th>\n",
       "      <th>Furnishing</th>\n",
       "      <th>Size_type</th>\n",
       "    </tr>\n",
       "  </thead>\n",
       "  <tbody>\n",
       "    <tr>\n",
       "      <th>0</th>\n",
       "      <td>KLCC, Kuala Lumpur</td>\n",
       "      <td>1250000.0</td>\n",
       "      <td>2+1</td>\n",
       "      <td>3.0</td>\n",
       "      <td>2.0</td>\n",
       "      <td>Serviced Residence</td>\n",
       "      <td>1335.0</td>\n",
       "      <td>Fully Furnished</td>\n",
       "      <td>built-up</td>\n",
       "    </tr>\n",
       "    <tr>\n",
       "      <th>1</th>\n",
       "      <td>Damansara Heights, Kuala Lumpur</td>\n",
       "      <td>6800000.0</td>\n",
       "      <td>6</td>\n",
       "      <td>7.0</td>\n",
       "      <td>NaN</td>\n",
       "      <td>Bungalow</td>\n",
       "      <td>6900.0</td>\n",
       "      <td>Partly Furnished</td>\n",
       "      <td>land area</td>\n",
       "    </tr>\n",
       "    <tr>\n",
       "      <th>2</th>\n",
       "      <td>Dutamas, Kuala Lumpur</td>\n",
       "      <td>1030000.0</td>\n",
       "      <td>3</td>\n",
       "      <td>4.0</td>\n",
       "      <td>2.0</td>\n",
       "      <td>Condominium (Corner)</td>\n",
       "      <td>1875.0</td>\n",
       "      <td>Partly Furnished</td>\n",
       "      <td>built-up</td>\n",
       "    </tr>\n",
       "    <tr>\n",
       "      <th>4</th>\n",
       "      <td>Bukit Jalil, Kuala Lumpur</td>\n",
       "      <td>900000.0</td>\n",
       "      <td>4+1</td>\n",
       "      <td>3.0</td>\n",
       "      <td>2.0</td>\n",
       "      <td>Condominium (Corner)</td>\n",
       "      <td>1513.0</td>\n",
       "      <td>Partly Furnished</td>\n",
       "      <td>built-up</td>\n",
       "    </tr>\n",
       "    <tr>\n",
       "      <th>5</th>\n",
       "      <td>Taman Tun Dr Ismail, Kuala Lumpur</td>\n",
       "      <td>5350000.0</td>\n",
       "      <td>4+2</td>\n",
       "      <td>5.0</td>\n",
       "      <td>4.0</td>\n",
       "      <td>Bungalow</td>\n",
       "      <td>7200.0</td>\n",
       "      <td>Partly Furnished</td>\n",
       "      <td>land area</td>\n",
       "    </tr>\n",
       "  </tbody>\n",
       "</table>\n",
       "</div>"
      ],
      "text/plain": [
       "                            Location      Price Rooms  Bathrooms  Car Parks  \\\n",
       "0                 KLCC, Kuala Lumpur  1250000.0   2+1        3.0        2.0   \n",
       "1    Damansara Heights, Kuala Lumpur  6800000.0     6        7.0        NaN   \n",
       "2              Dutamas, Kuala Lumpur  1030000.0     3        4.0        2.0   \n",
       "4          Bukit Jalil, Kuala Lumpur   900000.0   4+1        3.0        2.0   \n",
       "5  Taman Tun Dr Ismail, Kuala Lumpur  5350000.0   4+2        5.0        4.0   \n",
       "\n",
       "          Property Type    Size        Furnishing   Size_type  \n",
       "0    Serviced Residence  1335.0   Fully Furnished   built-up   \n",
       "1              Bungalow  6900.0  Partly Furnished  land area   \n",
       "2  Condominium (Corner)  1875.0  Partly Furnished   built-up   \n",
       "4  Condominium (Corner)  1513.0  Partly Furnished   built-up   \n",
       "5              Bungalow  7200.0  Partly Furnished  land area   "
      ]
     },
     "execution_count": 20,
     "metadata": {},
     "output_type": "execute_result"
    }
   ],
   "source": [
    "property.head()"
   ]
  },
  {
   "cell_type": "code",
   "execution_count": 21,
   "id": "cc5c957f",
   "metadata": {},
   "outputs": [
    {
     "data": {
      "text/plain": [
       "Location          object\n",
       "Price            float64\n",
       "Rooms             object\n",
       "Bathrooms        float64\n",
       "Car Parks        float64\n",
       "Property Type     object\n",
       "Size             float64\n",
       "Furnishing        object\n",
       "Size_type         object\n",
       "dtype: object"
      ]
     },
     "execution_count": 21,
     "metadata": {},
     "output_type": "execute_result"
    }
   ],
   "source": [
    "property.dtypes"
   ]
  },
  {
   "cell_type": "markdown",
   "id": "b61d6dde",
   "metadata": {},
   "source": [
    "### Rooms"
   ]
  },
  {
   "cell_type": "code",
   "execution_count": 22,
   "id": "b7bc65c2",
   "metadata": {},
   "outputs": [],
   "source": [
    "# convert the rooms input like (1+1) to 2. to clean the Rooms column and introduce a numerical equivalent.\n",
    "\n",
    "def convert_room_num(rooms):\n",
    "    try:\n",
    "        if rooms.endswith(\"+\"):\n",
    "            return int(rooms[:-1])\n",
    "        if re.search(\"[0-9]+\\+[0-9]+\", rooms) is not None:\n",
    "            tmp = rooms.split(\"+\")\n",
    "            return int(tmp[0]) + int(tmp[1])\n",
    "        if rooms == \"20 Above\":\n",
    "            return 20\n",
    "        if rooms == \"Studio\":\n",
    "            return 1\n",
    "        return int(rooms)\n",
    "    except AttributeError:\n",
    "        return rooms\n",
    "\n",
    "property[\"Rooms\"] = property[\"Rooms\"].apply(convert_room_num)"
   ]
  },
  {
   "cell_type": "code",
   "execution_count": 23,
   "id": "4416a5df",
   "metadata": {},
   "outputs": [
    {
     "data": {
      "text/html": [
       "<div>\n",
       "<style scoped>\n",
       "    .dataframe tbody tr th:only-of-type {\n",
       "        vertical-align: middle;\n",
       "    }\n",
       "\n",
       "    .dataframe tbody tr th {\n",
       "        vertical-align: top;\n",
       "    }\n",
       "\n",
       "    .dataframe thead th {\n",
       "        text-align: right;\n",
       "    }\n",
       "</style>\n",
       "<table border=\"1\" class=\"dataframe\">\n",
       "  <thead>\n",
       "    <tr style=\"text-align: right;\">\n",
       "      <th></th>\n",
       "      <th>Location</th>\n",
       "      <th>Price</th>\n",
       "      <th>Rooms</th>\n",
       "      <th>Bathrooms</th>\n",
       "      <th>Car Parks</th>\n",
       "      <th>Property Type</th>\n",
       "      <th>Size</th>\n",
       "      <th>Furnishing</th>\n",
       "      <th>Size_type</th>\n",
       "    </tr>\n",
       "  </thead>\n",
       "  <tbody>\n",
       "    <tr>\n",
       "      <th>0</th>\n",
       "      <td>KLCC, Kuala Lumpur</td>\n",
       "      <td>1250000.0</td>\n",
       "      <td>3.0</td>\n",
       "      <td>3.0</td>\n",
       "      <td>2.0</td>\n",
       "      <td>Serviced Residence</td>\n",
       "      <td>1335.0</td>\n",
       "      <td>Fully Furnished</td>\n",
       "      <td>built-up</td>\n",
       "    </tr>\n",
       "    <tr>\n",
       "      <th>1</th>\n",
       "      <td>Damansara Heights, Kuala Lumpur</td>\n",
       "      <td>6800000.0</td>\n",
       "      <td>6.0</td>\n",
       "      <td>7.0</td>\n",
       "      <td>NaN</td>\n",
       "      <td>Bungalow</td>\n",
       "      <td>6900.0</td>\n",
       "      <td>Partly Furnished</td>\n",
       "      <td>land area</td>\n",
       "    </tr>\n",
       "    <tr>\n",
       "      <th>2</th>\n",
       "      <td>Dutamas, Kuala Lumpur</td>\n",
       "      <td>1030000.0</td>\n",
       "      <td>3.0</td>\n",
       "      <td>4.0</td>\n",
       "      <td>2.0</td>\n",
       "      <td>Condominium (Corner)</td>\n",
       "      <td>1875.0</td>\n",
       "      <td>Partly Furnished</td>\n",
       "      <td>built-up</td>\n",
       "    </tr>\n",
       "    <tr>\n",
       "      <th>4</th>\n",
       "      <td>Bukit Jalil, Kuala Lumpur</td>\n",
       "      <td>900000.0</td>\n",
       "      <td>5.0</td>\n",
       "      <td>3.0</td>\n",
       "      <td>2.0</td>\n",
       "      <td>Condominium (Corner)</td>\n",
       "      <td>1513.0</td>\n",
       "      <td>Partly Furnished</td>\n",
       "      <td>built-up</td>\n",
       "    </tr>\n",
       "    <tr>\n",
       "      <th>5</th>\n",
       "      <td>Taman Tun Dr Ismail, Kuala Lumpur</td>\n",
       "      <td>5350000.0</td>\n",
       "      <td>6.0</td>\n",
       "      <td>5.0</td>\n",
       "      <td>4.0</td>\n",
       "      <td>Bungalow</td>\n",
       "      <td>7200.0</td>\n",
       "      <td>Partly Furnished</td>\n",
       "      <td>land area</td>\n",
       "    </tr>\n",
       "  </tbody>\n",
       "</table>\n",
       "</div>"
      ],
      "text/plain": [
       "                            Location      Price  Rooms  Bathrooms  Car Parks  \\\n",
       "0                 KLCC, Kuala Lumpur  1250000.0    3.0        3.0        2.0   \n",
       "1    Damansara Heights, Kuala Lumpur  6800000.0    6.0        7.0        NaN   \n",
       "2              Dutamas, Kuala Lumpur  1030000.0    3.0        4.0        2.0   \n",
       "4          Bukit Jalil, Kuala Lumpur   900000.0    5.0        3.0        2.0   \n",
       "5  Taman Tun Dr Ismail, Kuala Lumpur  5350000.0    6.0        5.0        4.0   \n",
       "\n",
       "          Property Type    Size        Furnishing   Size_type  \n",
       "0    Serviced Residence  1335.0   Fully Furnished   built-up   \n",
       "1              Bungalow  6900.0  Partly Furnished  land area   \n",
       "2  Condominium (Corner)  1875.0  Partly Furnished   built-up   \n",
       "4  Condominium (Corner)  1513.0  Partly Furnished   built-up   \n",
       "5              Bungalow  7200.0  Partly Furnished  land area   "
      ]
     },
     "execution_count": 23,
     "metadata": {},
     "output_type": "execute_result"
    }
   ],
   "source": [
    "property.head()"
   ]
  },
  {
   "cell_type": "code",
   "execution_count": 24,
   "id": "c69307ae",
   "metadata": {},
   "outputs": [
    {
     "data": {
      "text/plain": [
       "3.0     15692\n",
       "4.0     12893\n",
       "5.0      6799\n",
       "2.0      6410\n",
       "6.0      3744\n",
       "1.0      3112\n",
       "7.0      1575\n",
       "NaN      1521\n",
       "8.0       369\n",
       "9.0       105\n",
       "10.0       45\n",
       "12.0       15\n",
       "11.0       10\n",
       "20.0        8\n",
       "13.0        4\n",
       "14.0        3\n",
       "16.0        2\n",
       "15.0        1\n",
       "18.0        1\n",
       "Name: Rooms, dtype: int64"
      ]
     },
     "execution_count": 24,
     "metadata": {},
     "output_type": "execute_result"
    }
   ],
   "source": [
    "property[\"Rooms\"].value_counts(dropna=False)"
   ]
  },
  {
   "cell_type": "code",
   "execution_count": 25,
   "id": "a7bf89a2",
   "metadata": {},
   "outputs": [
    {
     "data": {
      "text/plain": [
       "Location          object\n",
       "Price            float64\n",
       "Rooms            float64\n",
       "Bathrooms        float64\n",
       "Car Parks        float64\n",
       "Property Type     object\n",
       "Size             float64\n",
       "Furnishing        object\n",
       "Size_type         object\n",
       "dtype: object"
      ]
     },
     "execution_count": 25,
     "metadata": {},
     "output_type": "execute_result"
    }
   ],
   "source": [
    "property.dtypes"
   ]
  },
  {
   "cell_type": "markdown",
   "id": "884a4452",
   "metadata": {},
   "source": [
    "### Furnishing"
   ]
  },
  {
   "cell_type": "code",
   "execution_count": 26,
   "id": "6b276a28",
   "metadata": {
    "scrolled": true
   },
   "outputs": [
    {
     "data": {
      "text/plain": [
       "Partly Furnished    26033\n",
       "Fully Furnished     13644\n",
       "NaN                  6471\n",
       "Unfurnished          5582\n",
       "Unknown               579\n",
       "Name: Furnishing, dtype: int64"
      ]
     },
     "execution_count": 26,
     "metadata": {},
     "output_type": "execute_result"
    }
   ],
   "source": [
    "property[\"Furnishing\"].value_counts(dropna=False)"
   ]
  },
  {
   "cell_type": "code",
   "execution_count": 27,
   "id": "fa5d3924",
   "metadata": {},
   "outputs": [],
   "source": [
    "property = property.loc[property[\"Furnishing\"] != \"Unknown\"]"
   ]
  },
  {
   "cell_type": "code",
   "execution_count": 28,
   "id": "5c25e3ea",
   "metadata": {},
   "outputs": [
    {
     "data": {
      "text/plain": [
       "Partly Furnished    26033\n",
       "Fully Furnished     13644\n",
       "NaN                  6471\n",
       "Unfurnished          5582\n",
       "Name: Furnishing, dtype: int64"
      ]
     },
     "execution_count": 28,
     "metadata": {},
     "output_type": "execute_result"
    }
   ],
   "source": [
    "property[\"Furnishing\"].value_counts(dropna=False)"
   ]
  },
  {
   "cell_type": "code",
   "execution_count": 29,
   "id": "35be0943",
   "metadata": {},
   "outputs": [
    {
     "data": {
      "text/plain": [
       "array([0, 1, 2, 3])"
      ]
     },
     "execution_count": 29,
     "metadata": {},
     "output_type": "execute_result"
    }
   ],
   "source": [
    "from sklearn.preprocessing import LabelEncoder\n",
    "le_furnishing = LabelEncoder()\n",
    "property['Furnishing'] = le_furnishing.fit_transform(property['Furnishing'])\n",
    "property[\"Furnishing\"].unique()"
   ]
  },
  {
   "cell_type": "code",
   "execution_count": 30,
   "id": "f58d71b6",
   "metadata": {},
   "outputs": [
    {
     "data": {
      "text/html": [
       "<div>\n",
       "<style scoped>\n",
       "    .dataframe tbody tr th:only-of-type {\n",
       "        vertical-align: middle;\n",
       "    }\n",
       "\n",
       "    .dataframe tbody tr th {\n",
       "        vertical-align: top;\n",
       "    }\n",
       "\n",
       "    .dataframe thead th {\n",
       "        text-align: right;\n",
       "    }\n",
       "</style>\n",
       "<table border=\"1\" class=\"dataframe\">\n",
       "  <thead>\n",
       "    <tr style=\"text-align: right;\">\n",
       "      <th></th>\n",
       "      <th>Location</th>\n",
       "      <th>Price</th>\n",
       "      <th>Rooms</th>\n",
       "      <th>Bathrooms</th>\n",
       "      <th>Car Parks</th>\n",
       "      <th>Property Type</th>\n",
       "      <th>Size</th>\n",
       "      <th>Furnishing</th>\n",
       "      <th>Size_type</th>\n",
       "    </tr>\n",
       "  </thead>\n",
       "  <tbody>\n",
       "    <tr>\n",
       "      <th>0</th>\n",
       "      <td>KLCC, Kuala Lumpur</td>\n",
       "      <td>1250000.0</td>\n",
       "      <td>3.0</td>\n",
       "      <td>3.0</td>\n",
       "      <td>2.0</td>\n",
       "      <td>Serviced Residence</td>\n",
       "      <td>1335.0</td>\n",
       "      <td>0</td>\n",
       "      <td>built-up</td>\n",
       "    </tr>\n",
       "    <tr>\n",
       "      <th>1</th>\n",
       "      <td>Damansara Heights, Kuala Lumpur</td>\n",
       "      <td>6800000.0</td>\n",
       "      <td>6.0</td>\n",
       "      <td>7.0</td>\n",
       "      <td>NaN</td>\n",
       "      <td>Bungalow</td>\n",
       "      <td>6900.0</td>\n",
       "      <td>1</td>\n",
       "      <td>land area</td>\n",
       "    </tr>\n",
       "    <tr>\n",
       "      <th>2</th>\n",
       "      <td>Dutamas, Kuala Lumpur</td>\n",
       "      <td>1030000.0</td>\n",
       "      <td>3.0</td>\n",
       "      <td>4.0</td>\n",
       "      <td>2.0</td>\n",
       "      <td>Condominium (Corner)</td>\n",
       "      <td>1875.0</td>\n",
       "      <td>1</td>\n",
       "      <td>built-up</td>\n",
       "    </tr>\n",
       "    <tr>\n",
       "      <th>4</th>\n",
       "      <td>Bukit Jalil, Kuala Lumpur</td>\n",
       "      <td>900000.0</td>\n",
       "      <td>5.0</td>\n",
       "      <td>3.0</td>\n",
       "      <td>2.0</td>\n",
       "      <td>Condominium (Corner)</td>\n",
       "      <td>1513.0</td>\n",
       "      <td>1</td>\n",
       "      <td>built-up</td>\n",
       "    </tr>\n",
       "    <tr>\n",
       "      <th>5</th>\n",
       "      <td>Taman Tun Dr Ismail, Kuala Lumpur</td>\n",
       "      <td>5350000.0</td>\n",
       "      <td>6.0</td>\n",
       "      <td>5.0</td>\n",
       "      <td>4.0</td>\n",
       "      <td>Bungalow</td>\n",
       "      <td>7200.0</td>\n",
       "      <td>1</td>\n",
       "      <td>land area</td>\n",
       "    </tr>\n",
       "  </tbody>\n",
       "</table>\n",
       "</div>"
      ],
      "text/plain": [
       "                            Location      Price  Rooms  Bathrooms  Car Parks  \\\n",
       "0                 KLCC, Kuala Lumpur  1250000.0    3.0        3.0        2.0   \n",
       "1    Damansara Heights, Kuala Lumpur  6800000.0    6.0        7.0        NaN   \n",
       "2              Dutamas, Kuala Lumpur  1030000.0    3.0        4.0        2.0   \n",
       "4          Bukit Jalil, Kuala Lumpur   900000.0    5.0        3.0        2.0   \n",
       "5  Taman Tun Dr Ismail, Kuala Lumpur  5350000.0    6.0        5.0        4.0   \n",
       "\n",
       "          Property Type    Size  Furnishing   Size_type  \n",
       "0    Serviced Residence  1335.0           0   built-up   \n",
       "1              Bungalow  6900.0           1  land area   \n",
       "2  Condominium (Corner)  1875.0           1   built-up   \n",
       "4  Condominium (Corner)  1513.0           1   built-up   \n",
       "5              Bungalow  7200.0           1  land area   "
      ]
     },
     "execution_count": 30,
     "metadata": {},
     "output_type": "execute_result"
    }
   ],
   "source": [
    "property.head()"
   ]
  },
  {
   "cell_type": "markdown",
   "id": "f8a03d6a",
   "metadata": {},
   "source": [
    "### Location"
   ]
  },
  {
   "cell_type": "code",
   "execution_count": 31,
   "id": "0941f0bb",
   "metadata": {},
   "outputs": [
    {
     "data": {
      "text/plain": [
       "Mont Kiara, Kuala Lumpur                           5734\n",
       "KLCC, Kuala Lumpur                                 5102\n",
       "Cheras, Kuala Lumpur                               4243\n",
       "Jalan Klang Lama (Old Klang Road), Kuala Lumpur    2757\n",
       "Setapak, Kuala Lumpur                              2577\n",
       "                                                   ... \n",
       "taman cheras perdana, Kuala Lumpur                    1\n",
       "Santuari Park Pantai, Kuala Lumpur                    1\n",
       "Bukit  Persekutuan, Kuala Lumpur                      1\n",
       "Taman Yarl OUG, Kuala Lumpur                          1\n",
       "Kuala Lumpur, Kuala Lumpur                            1\n",
       "Name: Location, Length: 108, dtype: int64"
      ]
     },
     "execution_count": 31,
     "metadata": {},
     "output_type": "execute_result"
    }
   ],
   "source": [
    "property[\"Location\"].value_counts(dropna=False)"
   ]
  },
  {
   "cell_type": "code",
   "execution_count": 32,
   "id": "0b4e09e9",
   "metadata": {},
   "outputs": [
    {
     "name": "stderr",
     "output_type": "stream",
     "text": [
      "C:\\Users\\Omar Hussein\\AppData\\Local\\Temp\\ipykernel_1732\\2698762318.py:2: FutureWarning: The default value of regex will change from True to False in a future version.\n",
      "  property[\"Location\"] = property[\"Location\"].str.replace(r\", kuala lumpur$\", \"\")\n"
     ]
    }
   ],
   "source": [
    "property[\"Location\"] = property[\"Location\"].str.lower()\n",
    "property[\"Location\"] = property[\"Location\"].str.replace(r\", kuala lumpur$\", \"\")"
   ]
  },
  {
   "cell_type": "code",
   "execution_count": 33,
   "id": "32fc2730",
   "metadata": {},
   "outputs": [
    {
     "data": {
      "text/plain": [
       "['adiva desa parkcity',\n",
       " 'alam damai',\n",
       " 'ampang',\n",
       " 'ampang hilir',\n",
       " 'bandar damai perdana',\n",
       " 'bandar menjalara',\n",
       " 'bandar sri damansara',\n",
       " 'bandar tasik selatan',\n",
       " 'bangsar',\n",
       " 'bangsar south',\n",
       " 'batu caves',\n",
       " 'brickfields',\n",
       " 'bukit  persekutuan',\n",
       " 'bukit bintang',\n",
       " 'bukit damansara',\n",
       " 'bukit jalil',\n",
       " 'bukit kiara',\n",
       " 'bukit ledang',\n",
       " 'bukit tunku (kenny hills)',\n",
       " 'canary residence',\n",
       " 'casa rimba',\n",
       " 'chan sow lin',\n",
       " 'cheras',\n",
       " 'city centre',\n",
       " 'country heights damansara',\n",
       " 'cyberjaya',\n",
       " 'damansara',\n",
       " 'damansara heights',\n",
       " 'desa pandan',\n",
       " 'desa parkcity',\n",
       " 'desa petaling',\n",
       " 'duta nusantara',\n",
       " 'dutamas',\n",
       " 'federal hill',\n",
       " 'gombak',\n",
       " 'gurney',\n",
       " 'happy garden',\n",
       " 'jalan ipoh',\n",
       " 'jalan klang lama (old klang road)',\n",
       " 'jalan kuching',\n",
       " 'jalan sultan ismail',\n",
       " 'jalan u-thant',\n",
       " 'jinjang',\n",
       " 'kemensah',\n",
       " 'kepong',\n",
       " 'keramat',\n",
       " 'kl city',\n",
       " 'kl eco city',\n",
       " 'kl sentral',\n",
       " 'klcc',\n",
       " 'kota damansara',\n",
       " 'kuala lumpur',\n",
       " 'kuchai lama',\n",
       " 'landed sd',\n",
       " 'mid valley city',\n",
       " 'mont kiara',\n",
       " 'off gasing indah,',\n",
       " 'other',\n",
       " 'oug',\n",
       " 'pandan indah',\n",
       " 'pandan jaya',\n",
       " 'pandan perdana',\n",
       " 'pantai',\n",
       " 'petaling jaya',\n",
       " 'puchong',\n",
       " 'rawang',\n",
       " 'salak selatan',\n",
       " 'santuari park pantai',\n",
       " 'segambut',\n",
       " 'semarak',\n",
       " 'sentul',\n",
       " 'seputeh',\n",
       " 'seri kembangan',\n",
       " 'setapak',\n",
       " 'setiawangsa',\n",
       " 'singapore',\n",
       " 'solaris dutamas',\n",
       " 'sri damansara',\n",
       " 'sri hartamas',\n",
       " 'sri kembangan',\n",
       " 'sri petaling',\n",
       " 'sungai besi',\n",
       " 'sungai long sl8',\n",
       " 'sungai penchala',\n",
       " 'sunway spk',\n",
       " 'taman cheras perdana',\n",
       " 'taman connaught',\n",
       " 'taman desa',\n",
       " 'taman duta',\n",
       " 'taman ibukota',\n",
       " 'taman melati',\n",
       " 'taman melawati',\n",
       " 'taman sri keramat',\n",
       " 'taman tar',\n",
       " 'taman tun dr ismail',\n",
       " 'taman wangsa permai',\n",
       " 'taman yarl',\n",
       " 'taman yarl oug',\n",
       " 'taman yarl, uog',\n",
       " 'the mines resort',\n",
       " 'titiwangsa',\n",
       " 'u-thant',\n",
       " 'ukay heights',\n",
       " 'wangsa maju']"
      ]
     },
     "execution_count": 33,
     "metadata": {},
     "output_type": "execute_result"
    }
   ],
   "source": [
    "sorted(property[\"Location\"].unique())"
   ]
  },
  {
   "cell_type": "code",
   "execution_count": 34,
   "id": "20658a31",
   "metadata": {},
   "outputs": [
    {
     "data": {
      "image/png": "[encoded data removed]",
      "text/plain": [
       "<Figure size 432x288 with 1 Axes>"
      ]
     },
     "metadata": {
      "needs_background": "light"
     },
     "output_type": "display_data"
    }
   ],
   "source": [
    "# Create geographical locations of each neighborhood to properly clean the location data. \n",
    "\n",
    "property[\"Location\"].value_counts().plot(logy=True);"
   ]
  },
  {
   "cell_type": "code",
   "execution_count": 35,
   "id": "50b0a712",
   "metadata": {},
   "outputs": [],
   "source": [
    "# As an initial step, to remove entries in locations with fewer than  100  properties listed.\n",
    "\n",
    "significant_locations = property[\"Location\"].value_counts()[\n",
    "    property[\"Location\"].value_counts() >= 100].index\n",
    "\n",
    "property = property.loc[np.isin(property[\"Location\"], significant_locations)]"
   ]
  },
  {
   "cell_type": "code",
   "execution_count": 36,
   "id": "15d20e0c",
   "metadata": {},
   "outputs": [
    {
     "data": {
      "text/plain": [
       "['ampang',\n",
       " 'ampang hilir',\n",
       " 'bandar damai perdana',\n",
       " 'bandar menjalara',\n",
       " 'bangsar',\n",
       " 'bangsar south',\n",
       " 'batu caves',\n",
       " 'brickfields',\n",
       " 'bukit bintang',\n",
       " 'bukit jalil',\n",
       " 'bukit tunku (kenny hills)',\n",
       " 'cheras',\n",
       " 'city centre',\n",
       " 'country heights damansara',\n",
       " 'damansara heights',\n",
       " 'desa pandan',\n",
       " 'desa parkcity',\n",
       " 'desa petaling',\n",
       " 'dutamas',\n",
       " 'jalan ipoh',\n",
       " 'jalan klang lama (old klang road)',\n",
       " 'jalan kuching',\n",
       " 'jalan sultan ismail',\n",
       " 'kepong',\n",
       " 'keramat',\n",
       " 'kl city',\n",
       " 'kl eco city',\n",
       " 'kl sentral',\n",
       " 'klcc',\n",
       " 'kuchai lama',\n",
       " 'mont kiara',\n",
       " 'oug',\n",
       " 'pandan perdana',\n",
       " 'pantai',\n",
       " 'salak selatan',\n",
       " 'segambut',\n",
       " 'sentul',\n",
       " 'seputeh',\n",
       " 'setapak',\n",
       " 'setiawangsa',\n",
       " 'sri hartamas',\n",
       " 'sri petaling',\n",
       " 'sungai besi',\n",
       " 'sunway spk',\n",
       " 'taman desa',\n",
       " 'taman melawati',\n",
       " 'taman tun dr ismail',\n",
       " 'titiwangsa',\n",
       " 'wangsa maju']"
      ]
     },
     "execution_count": 36,
     "metadata": {},
     "output_type": "execute_result"
    }
   ],
   "source": [
    "# looking at the locations shows that there are no more ambiguous names.\n",
    "\n",
    "sorted(property[\"Location\"].unique())"
   ]
  },
  {
   "cell_type": "code",
   "execution_count": 37,
   "id": "b8b5106c",
   "metadata": {},
   "outputs": [
    {
     "data": {
      "text/plain": [
       "array([28, 14, 18,  9, 46, 41, 10, 30, 16,  5,  1, 23, 20, 42, 25, 27, 45,\n",
       "       38, 12, 13, 44, 36, 11,  4, 35, 48,  6,  0, 40, 39, 31,  8, 22, 21,\n",
       "        3, 26, 37, 43, 33, 29, 19,  7, 15, 24, 17, 32,  2, 34, 47])"
      ]
     },
     "execution_count": 37,
     "metadata": {},
     "output_type": "execute_result"
    }
   ],
   "source": [
    "le_locatoin = LabelEncoder()\n",
    "property['Location'] = le_locatoin.fit_transform(property['Location'])\n",
    "property[\"Location\"].unique()"
   ]
  },
  {
   "cell_type": "code",
   "execution_count": 38,
   "id": "545cbfa3",
   "metadata": {},
   "outputs": [
    {
     "data": {
      "text/html": [
       "<div>\n",
       "<style scoped>\n",
       "    .dataframe tbody tr th:only-of-type {\n",
       "        vertical-align: middle;\n",
       "    }\n",
       "\n",
       "    .dataframe tbody tr th {\n",
       "        vertical-align: top;\n",
       "    }\n",
       "\n",
       "    .dataframe thead th {\n",
       "        text-align: right;\n",
       "    }\n",
       "</style>\n",
       "<table border=\"1\" class=\"dataframe\">\n",
       "  <thead>\n",
       "    <tr style=\"text-align: right;\">\n",
       "      <th></th>\n",
       "      <th>Location</th>\n",
       "      <th>Price</th>\n",
       "      <th>Rooms</th>\n",
       "      <th>Bathrooms</th>\n",
       "      <th>Car Parks</th>\n",
       "      <th>Property Type</th>\n",
       "      <th>Size</th>\n",
       "      <th>Furnishing</th>\n",
       "      <th>Size_type</th>\n",
       "    </tr>\n",
       "  </thead>\n",
       "  <tbody>\n",
       "    <tr>\n",
       "      <th>0</th>\n",
       "      <td>28</td>\n",
       "      <td>1250000.0</td>\n",
       "      <td>3.0</td>\n",
       "      <td>3.0</td>\n",
       "      <td>2.0</td>\n",
       "      <td>Serviced Residence</td>\n",
       "      <td>1335.0</td>\n",
       "      <td>0</td>\n",
       "      <td>built-up</td>\n",
       "    </tr>\n",
       "    <tr>\n",
       "      <th>1</th>\n",
       "      <td>14</td>\n",
       "      <td>6800000.0</td>\n",
       "      <td>6.0</td>\n",
       "      <td>7.0</td>\n",
       "      <td>NaN</td>\n",
       "      <td>Bungalow</td>\n",
       "      <td>6900.0</td>\n",
       "      <td>1</td>\n",
       "      <td>land area</td>\n",
       "    </tr>\n",
       "    <tr>\n",
       "      <th>2</th>\n",
       "      <td>18</td>\n",
       "      <td>1030000.0</td>\n",
       "      <td>3.0</td>\n",
       "      <td>4.0</td>\n",
       "      <td>2.0</td>\n",
       "      <td>Condominium (Corner)</td>\n",
       "      <td>1875.0</td>\n",
       "      <td>1</td>\n",
       "      <td>built-up</td>\n",
       "    </tr>\n",
       "    <tr>\n",
       "      <th>4</th>\n",
       "      <td>9</td>\n",
       "      <td>900000.0</td>\n",
       "      <td>5.0</td>\n",
       "      <td>3.0</td>\n",
       "      <td>2.0</td>\n",
       "      <td>Condominium (Corner)</td>\n",
       "      <td>1513.0</td>\n",
       "      <td>1</td>\n",
       "      <td>built-up</td>\n",
       "    </tr>\n",
       "    <tr>\n",
       "      <th>5</th>\n",
       "      <td>46</td>\n",
       "      <td>5350000.0</td>\n",
       "      <td>6.0</td>\n",
       "      <td>5.0</td>\n",
       "      <td>4.0</td>\n",
       "      <td>Bungalow</td>\n",
       "      <td>7200.0</td>\n",
       "      <td>1</td>\n",
       "      <td>land area</td>\n",
       "    </tr>\n",
       "  </tbody>\n",
       "</table>\n",
       "</div>"
      ],
      "text/plain": [
       "   Location      Price  Rooms  Bathrooms  Car Parks         Property Type  \\\n",
       "0        28  1250000.0    3.0        3.0        2.0    Serviced Residence   \n",
       "1        14  6800000.0    6.0        7.0        NaN              Bungalow   \n",
       "2        18  1030000.0    3.0        4.0        2.0  Condominium (Corner)   \n",
       "4         9   900000.0    5.0        3.0        2.0  Condominium (Corner)   \n",
       "5        46  5350000.0    6.0        5.0        4.0              Bungalow   \n",
       "\n",
       "     Size  Furnishing   Size_type  \n",
       "0  1335.0           0   built-up   \n",
       "1  6900.0           1  land area   \n",
       "2  1875.0           1   built-up   \n",
       "4  1513.0           1   built-up   \n",
       "5  7200.0           1  land area   "
      ]
     },
     "execution_count": 38,
     "metadata": {},
     "output_type": "execute_result"
    }
   ],
   "source": [
    "property.head()"
   ]
  },
  {
   "cell_type": "code",
   "execution_count": 39,
   "id": "9d4cd51a",
   "metadata": {},
   "outputs": [
    {
     "data": {
      "text/plain": [
       "[0,\n",
       " 1,\n",
       " 2,\n",
       " 3,\n",
       " 4,\n",
       " 5,\n",
       " 6,\n",
       " 7,\n",
       " 8,\n",
       " 9,\n",
       " 10,\n",
       " 11,\n",
       " 12,\n",
       " 13,\n",
       " 14,\n",
       " 15,\n",
       " 16,\n",
       " 17,\n",
       " 18,\n",
       " 19,\n",
       " 20,\n",
       " 21,\n",
       " 22,\n",
       " 23,\n",
       " 24,\n",
       " 25,\n",
       " 26,\n",
       " 27,\n",
       " 28,\n",
       " 29,\n",
       " 30,\n",
       " 31,\n",
       " 32,\n",
       " 33,\n",
       " 34,\n",
       " 35,\n",
       " 36,\n",
       " 37,\n",
       " 38,\n",
       " 39,\n",
       " 40,\n",
       " 41,\n",
       " 42,\n",
       " 43,\n",
       " 44,\n",
       " 45,\n",
       " 46,\n",
       " 47,\n",
       " 48]"
      ]
     },
     "execution_count": 39,
     "metadata": {},
     "output_type": "execute_result"
    }
   ],
   "source": [
    "sorted(property[\"Location\"].unique())"
   ]
  },
  {
   "cell_type": "code",
   "execution_count": 40,
   "id": "4597bbec",
   "metadata": {},
   "outputs": [
    {
     "data": {
      "text/plain": [
       "Condominium                             10984\n",
       "Serviced Residence                       6897\n",
       "Condominium (Corner)                     5577\n",
       "Condominium (Intermediate)               5005\n",
       "Serviced Residence (Intermediate)        3178\n",
       "                                        ...  \n",
       "4-sty Terrace/Link House (Penthouse)        1\n",
       "3-sty Terrace/Link House (Triplex)          1\n",
       "2-sty Terrace/Link House (Penthouse)        1\n",
       "3-sty Terrace/Link House (Duplex)           1\n",
       "4.5-sty Terrace/Link House (Corner)         1\n",
       "Name: Property Type, Length: 94, dtype: int64"
      ]
     },
     "execution_count": 40,
     "metadata": {},
     "output_type": "execute_result"
    }
   ],
   "source": [
    "property[\"Property Type\"].value_counts(dropna=False)"
   ]
  },
  {
   "cell_type": "code",
   "execution_count": 41,
   "id": "0fb75ba3",
   "metadata": {
    "scrolled": true
   },
   "outputs": [
    {
     "data": {
      "text/plain": [
       "Location           int32\n",
       "Price            float64\n",
       "Rooms            float64\n",
       "Bathrooms        float64\n",
       "Car Parks        float64\n",
       "Property Type     object\n",
       "Size             float64\n",
       "Furnishing         int32\n",
       "Size_type         object\n",
       "dtype: object"
      ]
     },
     "execution_count": 41,
     "metadata": {},
     "output_type": "execute_result"
    }
   ],
   "source": [
    "property.dtypes"
   ]
  },
  {
   "cell_type": "code",
   "execution_count": 42,
   "id": "64221bd1",
   "metadata": {},
   "outputs": [
    {
     "data": {
      "text/html": [
       "<div>\n",
       "<style scoped>\n",
       "    .dataframe tbody tr th:only-of-type {\n",
       "        vertical-align: middle;\n",
       "    }\n",
       "\n",
       "    .dataframe tbody tr th {\n",
       "        vertical-align: top;\n",
       "    }\n",
       "\n",
       "    .dataframe thead th {\n",
       "        text-align: right;\n",
       "    }\n",
       "</style>\n",
       "<table border=\"1\" class=\"dataframe\">\n",
       "  <thead>\n",
       "    <tr style=\"text-align: right;\">\n",
       "      <th></th>\n",
       "      <th>Location</th>\n",
       "      <th>Price</th>\n",
       "      <th>Rooms</th>\n",
       "      <th>Bathrooms</th>\n",
       "      <th>Car Parks</th>\n",
       "      <th>Property Type</th>\n",
       "      <th>Size</th>\n",
       "      <th>Furnishing</th>\n",
       "      <th>Size_type</th>\n",
       "    </tr>\n",
       "  </thead>\n",
       "  <tbody>\n",
       "    <tr>\n",
       "      <th>0</th>\n",
       "      <td>28</td>\n",
       "      <td>1250000.0</td>\n",
       "      <td>3.0</td>\n",
       "      <td>3.0</td>\n",
       "      <td>2.0</td>\n",
       "      <td>Serviced Residence</td>\n",
       "      <td>1335.0</td>\n",
       "      <td>0</td>\n",
       "      <td>built-up</td>\n",
       "    </tr>\n",
       "    <tr>\n",
       "      <th>1</th>\n",
       "      <td>14</td>\n",
       "      <td>6800000.0</td>\n",
       "      <td>6.0</td>\n",
       "      <td>7.0</td>\n",
       "      <td>NaN</td>\n",
       "      <td>Bungalow</td>\n",
       "      <td>6900.0</td>\n",
       "      <td>1</td>\n",
       "      <td>land area</td>\n",
       "    </tr>\n",
       "    <tr>\n",
       "      <th>2</th>\n",
       "      <td>18</td>\n",
       "      <td>1030000.0</td>\n",
       "      <td>3.0</td>\n",
       "      <td>4.0</td>\n",
       "      <td>2.0</td>\n",
       "      <td>Condominium (Corner)</td>\n",
       "      <td>1875.0</td>\n",
       "      <td>1</td>\n",
       "      <td>built-up</td>\n",
       "    </tr>\n",
       "    <tr>\n",
       "      <th>4</th>\n",
       "      <td>9</td>\n",
       "      <td>900000.0</td>\n",
       "      <td>5.0</td>\n",
       "      <td>3.0</td>\n",
       "      <td>2.0</td>\n",
       "      <td>Condominium (Corner)</td>\n",
       "      <td>1513.0</td>\n",
       "      <td>1</td>\n",
       "      <td>built-up</td>\n",
       "    </tr>\n",
       "    <tr>\n",
       "      <th>5</th>\n",
       "      <td>46</td>\n",
       "      <td>5350000.0</td>\n",
       "      <td>6.0</td>\n",
       "      <td>5.0</td>\n",
       "      <td>4.0</td>\n",
       "      <td>Bungalow</td>\n",
       "      <td>7200.0</td>\n",
       "      <td>1</td>\n",
       "      <td>land area</td>\n",
       "    </tr>\n",
       "  </tbody>\n",
       "</table>\n",
       "</div>"
      ],
      "text/plain": [
       "   Location      Price  Rooms  Bathrooms  Car Parks         Property Type  \\\n",
       "0        28  1250000.0    3.0        3.0        2.0    Serviced Residence   \n",
       "1        14  6800000.0    6.0        7.0        NaN              Bungalow   \n",
       "2        18  1030000.0    3.0        4.0        2.0  Condominium (Corner)   \n",
       "4         9   900000.0    5.0        3.0        2.0  Condominium (Corner)   \n",
       "5        46  5350000.0    6.0        5.0        4.0              Bungalow   \n",
       "\n",
       "     Size  Furnishing   Size_type  \n",
       "0  1335.0           0   built-up   \n",
       "1  6900.0           1  land area   \n",
       "2  1875.0           1   built-up   \n",
       "4  1513.0           1   built-up   \n",
       "5  7200.0           1  land area   "
      ]
     },
     "execution_count": 42,
     "metadata": {},
     "output_type": "execute_result"
    }
   ],
   "source": [
    "property.head()"
   ]
  },
  {
   "cell_type": "markdown",
   "id": "8d701ef3",
   "metadata": {},
   "source": [
    "### Car Parks"
   ]
  },
  {
   "cell_type": "code",
   "execution_count": 43,
   "id": "5cc6fa8d",
   "metadata": {},
   "outputs": [
    {
     "data": {
      "text/plain": [
       "NaN     16202\n",
       "2.0     14722\n",
       "1.0     13225\n",
       "3.0      3698\n",
       "4.0      1867\n",
       "6.0       606\n",
       "5.0       495\n",
       "8.0        88\n",
       "10.0       75\n",
       "7.0        61\n",
       "15.0        7\n",
       "12.0        7\n",
       "13.0        7\n",
       "28.0        4\n",
       "9.0         4\n",
       "11.0        4\n",
       "30.0        4\n",
       "20.0        3\n",
       "16.0        2\n",
       "17.0        2\n",
       "18.0        1\n",
       "24.0        1\n",
       "Name: Car Parks, dtype: int64"
      ]
     },
     "execution_count": 43,
     "metadata": {},
     "output_type": "execute_result"
    }
   ],
   "source": [
    "property[\"Car Parks\"].value_counts(dropna=False)"
   ]
  },
  {
   "cell_type": "code",
   "execution_count": 44,
   "id": "6cbeebbb",
   "metadata": {},
   "outputs": [],
   "source": [
    "property.loc[:, \"Car Parks\"] = property[\"Car Parks\"].fillna(0.0)\n"
   ]
  },
  {
   "cell_type": "code",
   "execution_count": 45,
   "id": "0ddc52e2",
   "metadata": {},
   "outputs": [
    {
     "data": {
      "text/plain": [
       "0.0     16202\n",
       "2.0     14722\n",
       "1.0     13225\n",
       "3.0      3698\n",
       "4.0      1867\n",
       "6.0       606\n",
       "5.0       495\n",
       "8.0        88\n",
       "10.0       75\n",
       "7.0        61\n",
       "15.0        7\n",
       "12.0        7\n",
       "13.0        7\n",
       "28.0        4\n",
       "9.0         4\n",
       "11.0        4\n",
       "30.0        4\n",
       "20.0        3\n",
       "16.0        2\n",
       "17.0        2\n",
       "18.0        1\n",
       "24.0        1\n",
       "Name: Car Parks, dtype: int64"
      ]
     },
     "execution_count": 45,
     "metadata": {},
     "output_type": "execute_result"
    }
   ],
   "source": [
    "property[\"Car Parks\"].value_counts(dropna=False)"
   ]
  },
  {
   "cell_type": "code",
   "execution_count": 46,
   "id": "39e995e6",
   "metadata": {},
   "outputs": [],
   "source": [
    "# change car park data from int to float\n",
    "property['Car Parks'] = property['Car Parks'].astype(float)"
   ]
  },
  {
   "cell_type": "code",
   "execution_count": 47,
   "id": "1f777602",
   "metadata": {},
   "outputs": [
    {
     "data": {
      "text/plain": [
       "dtype('float64')"
      ]
     },
     "execution_count": 47,
     "metadata": {},
     "output_type": "execute_result"
    }
   ],
   "source": [
    "property['Car Parks'].dtypes"
   ]
  },
  {
   "cell_type": "markdown",
   "id": "f523e807",
   "metadata": {},
   "source": [
    "### Bathrooms"
   ]
  },
  {
   "cell_type": "code",
   "execution_count": 48,
   "id": "269dd818",
   "metadata": {},
   "outputs": [
    {
     "data": {
      "text/plain": [
       "2.0     20359\n",
       "3.0      9068\n",
       "4.0      6358\n",
       "5.0      4609\n",
       "1.0      4337\n",
       "6.0      3094\n",
       "NaN      1599\n",
       "7.0      1008\n",
       "8.0       397\n",
       "9.0       139\n",
       "10.0       69\n",
       "12.0       14\n",
       "11.0       10\n",
       "20.0        9\n",
       "13.0        5\n",
       "15.0        5\n",
       "14.0        4\n",
       "16.0        1\n",
       "Name: Bathrooms, dtype: int64"
      ]
     },
     "execution_count": 48,
     "metadata": {},
     "output_type": "execute_result"
    }
   ],
   "source": [
    "property[\"Bathrooms\"].value_counts(dropna=False)"
   ]
  },
  {
   "cell_type": "markdown",
   "id": "b85e115a",
   "metadata": {},
   "source": [
    "## Check for missing values"
   ]
  },
  {
   "cell_type": "code",
   "execution_count": 49,
   "id": "5a28f09d",
   "metadata": {},
   "outputs": [],
   "source": [
    "# get a count by column of missing values\n",
    "count = property.isna().sum()\n",
    "property_missing = (pd.concat([count.rename('missing_count'),\n",
    "                     count.div(len(property))\n",
    "                          .rename('missing_ratio')],axis = 1)\n",
    "             .loc[count.ne(0)])"
   ]
  },
  {
   "cell_type": "code",
   "execution_count": 50,
   "id": "c261b0d2",
   "metadata": {},
   "outputs": [
    {
     "data": {
      "text/html": [
       "<div>\n",
       "<style scoped>\n",
       "    .dataframe tbody tr th:only-of-type {\n",
       "        vertical-align: middle;\n",
       "    }\n",
       "\n",
       "    .dataframe tbody tr th {\n",
       "        vertical-align: top;\n",
       "    }\n",
       "\n",
       "    .dataframe thead th {\n",
       "        text-align: right;\n",
       "    }\n",
       "</style>\n",
       "<table border=\"1\" class=\"dataframe\">\n",
       "  <thead>\n",
       "    <tr style=\"text-align: right;\">\n",
       "      <th></th>\n",
       "      <th>missing_count</th>\n",
       "      <th>missing_ratio</th>\n",
       "    </tr>\n",
       "  </thead>\n",
       "  <tbody>\n",
       "    <tr>\n",
       "      <th>Rooms</th>\n",
       "      <td>1312</td>\n",
       "      <td>0.025683</td>\n",
       "    </tr>\n",
       "    <tr>\n",
       "      <th>Bathrooms</th>\n",
       "      <td>1599</td>\n",
       "      <td>0.031301</td>\n",
       "    </tr>\n",
       "  </tbody>\n",
       "</table>\n",
       "</div>"
      ],
      "text/plain": [
       "           missing_count  missing_ratio\n",
       "Rooms               1312       0.025683\n",
       "Bathrooms           1599       0.031301"
      ]
     },
     "execution_count": 50,
     "metadata": {},
     "output_type": "execute_result"
    }
   ],
   "source": [
    "property_missing"
   ]
  },
  {
   "cell_type": "code",
   "execution_count": 51,
   "id": "bdca05f2",
   "metadata": {},
   "outputs": [
    {
     "data": {
      "text/plain": [
       "(2, 2)"
      ]
     },
     "execution_count": 51,
     "metadata": {},
     "output_type": "execute_result"
    }
   ],
   "source": [
    "property_missing.shape"
   ]
  },
  {
   "cell_type": "code",
   "execution_count": 52,
   "id": "4993f587",
   "metadata": {},
   "outputs": [],
   "source": [
    "# clear any missing data from the whole columns\n",
    "\n",
    "property = property.dropna()"
   ]
  },
  {
   "cell_type": "code",
   "execution_count": 53,
   "id": "c35944a9",
   "metadata": {},
   "outputs": [],
   "source": [
    "# get a count by column of missing values\n",
    "count = property.isna().sum()\n",
    "property_missing = (pd.concat([count.rename('missing_count'),\n",
    "                     count.div(len(property))\n",
    "                          .rename('missing_ratio')],axis = 1)\n",
    "             .loc[count.ne(0)])"
   ]
  },
  {
   "cell_type": "code",
   "execution_count": 54,
   "id": "3792a880",
   "metadata": {},
   "outputs": [
    {
     "data": {
      "text/plain": [
       "(0, 2)"
      ]
     },
     "execution_count": 54,
     "metadata": {},
     "output_type": "execute_result"
    }
   ],
   "source": [
    "property_missing.shape"
   ]
  },
  {
   "cell_type": "code",
   "execution_count": 55,
   "id": "420c2595",
   "metadata": {},
   "outputs": [
    {
     "data": {
      "text/plain": [
       "Location           int32\n",
       "Price            float64\n",
       "Rooms            float64\n",
       "Bathrooms        float64\n",
       "Car Parks        float64\n",
       "Property Type     object\n",
       "Size             float64\n",
       "Furnishing         int32\n",
       "Size_type         object\n",
       "dtype: object"
      ]
     },
     "execution_count": 55,
     "metadata": {},
     "output_type": "execute_result"
    }
   ],
   "source": [
    "property.dtypes"
   ]
  },
  {
   "cell_type": "markdown",
   "id": "85994dd1",
   "metadata": {},
   "source": [
    "## Predictive Modelling"
   ]
  },
  {
   "cell_type": "markdown",
   "id": "6d22a9fc",
   "metadata": {},
   "source": [
    "##  Feature Selection"
   ]
  },
  {
   "cell_type": "code",
   "execution_count": 56,
   "id": "5ab858e4",
   "metadata": {},
   "outputs": [],
   "source": [
    "# Keep only the relevant features\n",
    "\n",
    "df = property[['Location', 'Furnishing', 'Rooms', 'Bathrooms', 'Car Parks', 'Size', 'Price']].copy()\n"
   ]
  },
  {
   "cell_type": "code",
   "execution_count": 57,
   "id": "748be456",
   "metadata": {},
   "outputs": [
    {
     "data": {
      "text/html": [
       "<div>\n",
       "<style scoped>\n",
       "    .dataframe tbody tr th:only-of-type {\n",
       "        vertical-align: middle;\n",
       "    }\n",
       "\n",
       "    .dataframe tbody tr th {\n",
       "        vertical-align: top;\n",
       "    }\n",
       "\n",
       "    .dataframe thead th {\n",
       "        text-align: right;\n",
       "    }\n",
       "</style>\n",
       "<table border=\"1\" class=\"dataframe\">\n",
       "  <thead>\n",
       "    <tr style=\"text-align: right;\">\n",
       "      <th></th>\n",
       "      <th>Location</th>\n",
       "      <th>Furnishing</th>\n",
       "      <th>Rooms</th>\n",
       "      <th>Bathrooms</th>\n",
       "      <th>Car Parks</th>\n",
       "      <th>Size</th>\n",
       "      <th>Price</th>\n",
       "    </tr>\n",
       "  </thead>\n",
       "  <tbody>\n",
       "    <tr>\n",
       "      <th>0</th>\n",
       "      <td>28</td>\n",
       "      <td>0</td>\n",
       "      <td>3.0</td>\n",
       "      <td>3.0</td>\n",
       "      <td>2.0</td>\n",
       "      <td>1335.0</td>\n",
       "      <td>1250000.0</td>\n",
       "    </tr>\n",
       "    <tr>\n",
       "      <th>1</th>\n",
       "      <td>14</td>\n",
       "      <td>1</td>\n",
       "      <td>6.0</td>\n",
       "      <td>7.0</td>\n",
       "      <td>0.0</td>\n",
       "      <td>6900.0</td>\n",
       "      <td>6800000.0</td>\n",
       "    </tr>\n",
       "    <tr>\n",
       "      <th>2</th>\n",
       "      <td>18</td>\n",
       "      <td>1</td>\n",
       "      <td>3.0</td>\n",
       "      <td>4.0</td>\n",
       "      <td>2.0</td>\n",
       "      <td>1875.0</td>\n",
       "      <td>1030000.0</td>\n",
       "    </tr>\n",
       "    <tr>\n",
       "      <th>4</th>\n",
       "      <td>9</td>\n",
       "      <td>1</td>\n",
       "      <td>5.0</td>\n",
       "      <td>3.0</td>\n",
       "      <td>2.0</td>\n",
       "      <td>1513.0</td>\n",
       "      <td>900000.0</td>\n",
       "    </tr>\n",
       "    <tr>\n",
       "      <th>5</th>\n",
       "      <td>46</td>\n",
       "      <td>1</td>\n",
       "      <td>6.0</td>\n",
       "      <td>5.0</td>\n",
       "      <td>4.0</td>\n",
       "      <td>7200.0</td>\n",
       "      <td>5350000.0</td>\n",
       "    </tr>\n",
       "  </tbody>\n",
       "</table>\n",
       "</div>"
      ],
      "text/plain": [
       "   Location  Furnishing  Rooms  Bathrooms  Car Parks    Size      Price\n",
       "0        28           0    3.0        3.0        2.0  1335.0  1250000.0\n",
       "1        14           1    6.0        7.0        0.0  6900.0  6800000.0\n",
       "2        18           1    3.0        4.0        2.0  1875.0  1030000.0\n",
       "4         9           1    5.0        3.0        2.0  1513.0   900000.0\n",
       "5        46           1    6.0        5.0        4.0  7200.0  5350000.0"
      ]
     },
     "execution_count": 57,
     "metadata": {},
     "output_type": "execute_result"
    }
   ],
   "source": [
    "df.head()"
   ]
  },
  {
   "cell_type": "code",
   "execution_count": 58,
   "id": "33a14a16",
   "metadata": {},
   "outputs": [
    {
     "data": {
      "text/plain": [
       "Location        int32\n",
       "Furnishing      int32\n",
       "Rooms         float64\n",
       "Bathrooms     float64\n",
       "Car Parks     float64\n",
       "Size          float64\n",
       "Price         float64\n",
       "dtype: object"
      ]
     },
     "execution_count": 58,
     "metadata": {},
     "output_type": "execute_result"
    }
   ],
   "source": [
    "df.dtypes"
   ]
  },
  {
   "cell_type": "code",
   "execution_count": 59,
   "id": "30ab93d7",
   "metadata": {},
   "outputs": [],
   "source": [
    "selectors = []\n",
    "for feature in [\"Bathrooms\", \"Car Parks\", \"Rooms\", \"Location\", \"Car Parks\"]:\n",
    "    selectors.append(df[feature].between(\n",
    "        df[feature].quantile(0.001), \n",
    "        df[feature].quantile(0.999)))\n",
    "\n",
    "df = df.loc[(~pd.DataFrame(selectors).T).sum(axis=1) == 0]"
   ]
  },
  {
   "cell_type": "markdown",
   "id": "75af9c51",
   "metadata": {},
   "source": [
    "## Modelling"
   ]
  },
  {
   "cell_type": "code",
   "execution_count": 60,
   "id": "88c64b46",
   "metadata": {},
   "outputs": [],
   "source": [
    "# Split data \n",
    "X = df.drop(\"Price\", axis =1)\n",
    "y = df[\"Price\"]"
   ]
  },
  {
   "cell_type": "code",
   "execution_count": 61,
   "id": "b273b3bd",
   "metadata": {},
   "outputs": [
    {
     "data": {
      "text/html": [
       "<style>#sk-container-id-1 {color: black;background-color: white;}#sk-container-id-1 pre{padding: 0;}#sk-container-id-1 div.sk-toggleable {background-color: white;}#sk-container-id-1 label.sk-toggleable__label {cursor: pointer;display: block;width: 100%;margin-bottom: 0;padding: 0.3em;box-sizing: border-box;text-align: center;}#sk-container-id-1 label.sk-toggleable__label-arrow:before {content: \"▸\";float: left;margin-right: 0.25em;color: #696969;}#sk-container-id-1 label.sk-toggleable__label-arrow:hover:before {color: black;}#sk-container-id-1 div.sk-estimator:hover label.sk-toggleable__label-arrow:before {color: black;}#sk-container-id-1 div.sk-toggleable__content {max-height: 0;max-width: 0;overflow: hidden;text-align: left;background-color: #f0f8ff;}#sk-container-id-1 div.sk-toggleable__content pre {margin: 0.2em;color: black;border-radius: 0.25em;background-color: #f0f8ff;}#sk-container-id-1 input.sk-toggleable__control:checked~div.sk-toggleable__content {max-height: 200px;max-width: 100%;overflow: auto;}#sk-container-id-1 input.sk-toggleable__control:checked~label.sk-toggleable__label-arrow:before {content: \"▾\";}#sk-container-id-1 div.sk-estimator input.sk-toggleable__control:checked~label.sk-toggleable__label {background-color: #d4ebff;}#sk-container-id-1 div.sk-label input.sk-toggleable__control:checked~label.sk-toggleable__label {background-color: #d4ebff;}#sk-container-id-1 input.sk-hidden--visually {border: 0;clip: rect(1px 1px 1px 1px);clip: rect(1px, 1px, 1px, 1px);height: 1px;margin: -1px;overflow: hidden;padding: 0;position: absolute;width: 1px;}#sk-container-id-1 div.sk-estimator {font-family: monospace;background-color: #f0f8ff;border: 1px dotted black;border-radius: 0.25em;box-sizing: border-box;margin-bottom: 0.5em;}#sk-container-id-1 div.sk-estimator:hover {background-color: #d4ebff;}#sk-container-id-1 div.sk-parallel-item::after {content: \"\";width: 100%;border-bottom: 1px solid gray;flex-grow: 1;}#sk-container-id-1 div.sk-label:hover label.sk-toggleable__label {background-color: #d4ebff;}#sk-container-id-1 div.sk-serial::before {content: \"\";position: absolute;border-left: 1px solid gray;box-sizing: border-box;top: 0;bottom: 0;left: 50%;z-index: 0;}#sk-container-id-1 div.sk-serial {display: flex;flex-direction: column;align-items: center;background-color: white;padding-right: 0.2em;padding-left: 0.2em;position: relative;}#sk-container-id-1 div.sk-item {position: relative;z-index: 1;}#sk-container-id-1 div.sk-parallel {display: flex;align-items: stretch;justify-content: center;background-color: white;position: relative;}#sk-container-id-1 div.sk-item::before, #sk-container-id-1 div.sk-parallel-item::before {content: \"\";position: absolute;border-left: 1px solid gray;box-sizing: border-box;top: 0;bottom: 0;left: 50%;z-index: -1;}#sk-container-id-1 div.sk-parallel-item {display: flex;flex-direction: column;z-index: 1;position: relative;background-color: white;}#sk-container-id-1 div.sk-parallel-item:first-child::after {align-self: flex-end;width: 50%;}#sk-container-id-1 div.sk-parallel-item:last-child::after {align-self: flex-start;width: 50%;}#sk-container-id-1 div.sk-parallel-item:only-child::after {width: 0;}#sk-container-id-1 div.sk-dashed-wrapped {border: 1px dashed gray;margin: 0 0.4em 0.5em 0.4em;box-sizing: border-box;padding-bottom: 0.4em;background-color: white;}#sk-container-id-1 div.sk-label label {font-family: monospace;font-weight: bold;display: inline-block;line-height: 1.2em;}#sk-container-id-1 div.sk-label-container {text-align: center;}#sk-container-id-1 div.sk-container {/* jupyter's `normalize.less` sets `[hidden] { display: none; }` but bootstrap.min.css set `[hidden] { display: none !important; }` so we also need the `!important` here to be able to override the default hidden behavior on the sphinx rendered scikit-learn.org. See: https://github.com/scikit-learn/scikit-learn/issues/21755 */display: inline-block !important;position: relative;}#sk-container-id-1 div.sk-text-repr-fallback {display: none;}</style><div id=\"sk-container-id-1\" class=\"sk-top-container\"><div class=\"sk-text-repr-fallback\"><pre>LinearRegression()</pre><b>In a Jupyter environment, please rerun this cell to show the HTML representation or trust the notebook. <br />On GitHub, the HTML representation is unable to render, please try loading this page with nbviewer.org.</b></div><div class=\"sk-container\" hidden><div class=\"sk-item\"><div class=\"sk-estimator sk-toggleable\"><input class=\"sk-toggleable__control sk-hidden--visually\" id=\"sk-estimator-id-1\" type=\"checkbox\" checked><label for=\"sk-estimator-id-1\" class=\"sk-toggleable__label sk-toggleable__label-arrow\">LinearRegression</label><div class=\"sk-toggleable__content\"><pre>LinearRegression()</pre></div></div></div></div></div>"
      ],
      "text/plain": [
       "LinearRegression()"
      ]
     },
     "execution_count": 61,
     "metadata": {},
     "output_type": "execute_result"
    }
   ],
   "source": [
    "# Define convenience function to train and test a scikit-learn model.\n",
    "\n",
    "from sklearn.linear_model import LinearRegression\n",
    "linear_reg = LinearRegression()\n",
    "linear_reg.fit(X, y.values)"
   ]
  },
  {
   "cell_type": "code",
   "execution_count": 62,
   "id": "7b156985",
   "metadata": {},
   "outputs": [],
   "source": [
    "y_pred = linear_reg.predict(X)"
   ]
  },
  {
   "cell_type": "code",
   "execution_count": 63,
   "id": "64cbf8a3",
   "metadata": {},
   "outputs": [],
   "source": [
    "from sklearn.metrics import mean_squared_error, mean_absolute_error\n",
    "import numpy as np\n",
    "error = np.sqrt(mean_squared_error(y, y_pred))"
   ]
  },
  {
   "cell_type": "code",
   "execution_count": 64,
   "id": "ac1d965b",
   "metadata": {},
   "outputs": [
    {
     "data": {
      "text/plain": [
       "8976495.399439419"
      ]
     },
     "execution_count": 64,
     "metadata": {},
     "output_type": "execute_result"
    }
   ],
   "source": [
    "error"
   ]
  },
  {
   "cell_type": "code",
   "execution_count": 65,
   "id": "87fa8ad6",
   "metadata": {},
   "outputs": [
    {
     "data": {
      "text/html": [
       "<style>#sk-container-id-2 {color: black;background-color: white;}#sk-container-id-2 pre{padding: 0;}#sk-container-id-2 div.sk-toggleable {background-color: white;}#sk-container-id-2 label.sk-toggleable__label {cursor: pointer;display: block;width: 100%;margin-bottom: 0;padding: 0.3em;box-sizing: border-box;text-align: center;}#sk-container-id-2 label.sk-toggleable__label-arrow:before {content: \"▸\";float: left;margin-right: 0.25em;color: #696969;}#sk-container-id-2 label.sk-toggleable__label-arrow:hover:before {color: black;}#sk-container-id-2 div.sk-estimator:hover label.sk-toggleable__label-arrow:before {color: black;}#sk-container-id-2 div.sk-toggleable__content {max-height: 0;max-width: 0;overflow: hidden;text-align: left;background-color: #f0f8ff;}#sk-container-id-2 div.sk-toggleable__content pre {margin: 0.2em;color: black;border-radius: 0.25em;background-color: #f0f8ff;}#sk-container-id-2 input.sk-toggleable__control:checked~div.sk-toggleable__content {max-height: 200px;max-width: 100%;overflow: auto;}#sk-container-id-2 input.sk-toggleable__control:checked~label.sk-toggleable__label-arrow:before {content: \"▾\";}#sk-container-id-2 div.sk-estimator input.sk-toggleable__control:checked~label.sk-toggleable__label {background-color: #d4ebff;}#sk-container-id-2 div.sk-label input.sk-toggleable__control:checked~label.sk-toggleable__label {background-color: #d4ebff;}#sk-container-id-2 input.sk-hidden--visually {border: 0;clip: rect(1px 1px 1px 1px);clip: rect(1px, 1px, 1px, 1px);height: 1px;margin: -1px;overflow: hidden;padding: 0;position: absolute;width: 1px;}#sk-container-id-2 div.sk-estimator {font-family: monospace;background-color: #f0f8ff;border: 1px dotted black;border-radius: 0.25em;box-sizing: border-box;margin-bottom: 0.5em;}#sk-container-id-2 div.sk-estimator:hover {background-color: #d4ebff;}#sk-container-id-2 div.sk-parallel-item::after {content: \"\";width: 100%;border-bottom: 1px solid gray;flex-grow: 1;}#sk-container-id-2 div.sk-label:hover label.sk-toggleable__label {background-color: #d4ebff;}#sk-container-id-2 div.sk-serial::before {content: \"\";position: absolute;border-left: 1px solid gray;box-sizing: border-box;top: 0;bottom: 0;left: 50%;z-index: 0;}#sk-container-id-2 div.sk-serial {display: flex;flex-direction: column;align-items: center;background-color: white;padding-right: 0.2em;padding-left: 0.2em;position: relative;}#sk-container-id-2 div.sk-item {position: relative;z-index: 1;}#sk-container-id-2 div.sk-parallel {display: flex;align-items: stretch;justify-content: center;background-color: white;position: relative;}#sk-container-id-2 div.sk-item::before, #sk-container-id-2 div.sk-parallel-item::before {content: \"\";position: absolute;border-left: 1px solid gray;box-sizing: border-box;top: 0;bottom: 0;left: 50%;z-index: -1;}#sk-container-id-2 div.sk-parallel-item {display: flex;flex-direction: column;z-index: 1;position: relative;background-color: white;}#sk-container-id-2 div.sk-parallel-item:first-child::after {align-self: flex-end;width: 50%;}#sk-container-id-2 div.sk-parallel-item:last-child::after {align-self: flex-start;width: 50%;}#sk-container-id-2 div.sk-parallel-item:only-child::after {width: 0;}#sk-container-id-2 div.sk-dashed-wrapped {border: 1px dashed gray;margin: 0 0.4em 0.5em 0.4em;box-sizing: border-box;padding-bottom: 0.4em;background-color: white;}#sk-container-id-2 div.sk-label label {font-family: monospace;font-weight: bold;display: inline-block;line-height: 1.2em;}#sk-container-id-2 div.sk-label-container {text-align: center;}#sk-container-id-2 div.sk-container {/* jupyter's `normalize.less` sets `[hidden] { display: none; }` but bootstrap.min.css set `[hidden] { display: none !important; }` so we also need the `!important` here to be able to override the default hidden behavior on the sphinx rendered scikit-learn.org. See: https://github.com/scikit-learn/scikit-learn/issues/21755 */display: inline-block !important;position: relative;}#sk-container-id-2 div.sk-text-repr-fallback {display: none;}</style><div id=\"sk-container-id-2\" class=\"sk-top-container\"><div class=\"sk-text-repr-fallback\"><pre>DecisionTreeRegressor(random_state=0)</pre><b>In a Jupyter environment, please rerun this cell to show the HTML representation or trust the notebook. <br />On GitHub, the HTML representation is unable to render, please try loading this page with nbviewer.org.</b></div><div class=\"sk-container\" hidden><div class=\"sk-item\"><div class=\"sk-estimator sk-toggleable\"><input class=\"sk-toggleable__control sk-hidden--visually\" id=\"sk-estimator-id-2\" type=\"checkbox\" checked><label for=\"sk-estimator-id-2\" class=\"sk-toggleable__label sk-toggleable__label-arrow\">DecisionTreeRegressor</label><div class=\"sk-toggleable__content\"><pre>DecisionTreeRegressor(random_state=0)</pre></div></div></div></div></div>"
      ],
      "text/plain": [
       "DecisionTreeRegressor(random_state=0)"
      ]
     },
     "execution_count": 65,
     "metadata": {},
     "output_type": "execute_result"
    }
   ],
   "source": [
    "from sklearn.tree import DecisionTreeRegressor\n",
    "dec_tree_reg = DecisionTreeRegressor(random_state=0)\n",
    "dec_tree_reg.fit(X, y.values)"
   ]
  },
  {
   "cell_type": "code",
   "execution_count": 66,
   "id": "943ee3e4",
   "metadata": {},
   "outputs": [],
   "source": [
    "y_pred = dec_tree_reg.predict(X)"
   ]
  },
  {
   "cell_type": "code",
   "execution_count": 67,
   "id": "0ec0f980",
   "metadata": {},
   "outputs": [
    {
     "name": "stdout",
     "output_type": "stream",
     "text": [
      "MYR 422,818.64\n"
     ]
    }
   ],
   "source": [
    "error = np.sqrt(mean_squared_error(y, y_pred))\n",
    "print(\"MYR {:,.02f}\".format(error))"
   ]
  },
  {
   "cell_type": "code",
   "execution_count": 68,
   "id": "6fea0605",
   "metadata": {},
   "outputs": [
    {
     "data": {
      "text/html": [
       "<style>#sk-container-id-3 {color: black;background-color: white;}#sk-container-id-3 pre{padding: 0;}#sk-container-id-3 div.sk-toggleable {background-color: white;}#sk-container-id-3 label.sk-toggleable__label {cursor: pointer;display: block;width: 100%;margin-bottom: 0;padding: 0.3em;box-sizing: border-box;text-align: center;}#sk-container-id-3 label.sk-toggleable__label-arrow:before {content: \"▸\";float: left;margin-right: 0.25em;color: #696969;}#sk-container-id-3 label.sk-toggleable__label-arrow:hover:before {color: black;}#sk-container-id-3 div.sk-estimator:hover label.sk-toggleable__label-arrow:before {color: black;}#sk-container-id-3 div.sk-toggleable__content {max-height: 0;max-width: 0;overflow: hidden;text-align: left;background-color: #f0f8ff;}#sk-container-id-3 div.sk-toggleable__content pre {margin: 0.2em;color: black;border-radius: 0.25em;background-color: #f0f8ff;}#sk-container-id-3 input.sk-toggleable__control:checked~div.sk-toggleable__content {max-height: 200px;max-width: 100%;overflow: auto;}#sk-container-id-3 input.sk-toggleable__control:checked~label.sk-toggleable__label-arrow:before {content: \"▾\";}#sk-container-id-3 div.sk-estimator input.sk-toggleable__control:checked~label.sk-toggleable__label {background-color: #d4ebff;}#sk-container-id-3 div.sk-label input.sk-toggleable__control:checked~label.sk-toggleable__label {background-color: #d4ebff;}#sk-container-id-3 input.sk-hidden--visually {border: 0;clip: rect(1px 1px 1px 1px);clip: rect(1px, 1px, 1px, 1px);height: 1px;margin: -1px;overflow: hidden;padding: 0;position: absolute;width: 1px;}#sk-container-id-3 div.sk-estimator {font-family: monospace;background-color: #f0f8ff;border: 1px dotted black;border-radius: 0.25em;box-sizing: border-box;margin-bottom: 0.5em;}#sk-container-id-3 div.sk-estimator:hover {background-color: #d4ebff;}#sk-container-id-3 div.sk-parallel-item::after {content: \"\";width: 100%;border-bottom: 1px solid gray;flex-grow: 1;}#sk-container-id-3 div.sk-label:hover label.sk-toggleable__label {background-color: #d4ebff;}#sk-container-id-3 div.sk-serial::before {content: \"\";position: absolute;border-left: 1px solid gray;box-sizing: border-box;top: 0;bottom: 0;left: 50%;z-index: 0;}#sk-container-id-3 div.sk-serial {display: flex;flex-direction: column;align-items: center;background-color: white;padding-right: 0.2em;padding-left: 0.2em;position: relative;}#sk-container-id-3 div.sk-item {position: relative;z-index: 1;}#sk-container-id-3 div.sk-parallel {display: flex;align-items: stretch;justify-content: center;background-color: white;position: relative;}#sk-container-id-3 div.sk-item::before, #sk-container-id-3 div.sk-parallel-item::before {content: \"\";position: absolute;border-left: 1px solid gray;box-sizing: border-box;top: 0;bottom: 0;left: 50%;z-index: -1;}#sk-container-id-3 div.sk-parallel-item {display: flex;flex-direction: column;z-index: 1;position: relative;background-color: white;}#sk-container-id-3 div.sk-parallel-item:first-child::after {align-self: flex-end;width: 50%;}#sk-container-id-3 div.sk-parallel-item:last-child::after {align-self: flex-start;width: 50%;}#sk-container-id-3 div.sk-parallel-item:only-child::after {width: 0;}#sk-container-id-3 div.sk-dashed-wrapped {border: 1px dashed gray;margin: 0 0.4em 0.5em 0.4em;box-sizing: border-box;padding-bottom: 0.4em;background-color: white;}#sk-container-id-3 div.sk-label label {font-family: monospace;font-weight: bold;display: inline-block;line-height: 1.2em;}#sk-container-id-3 div.sk-label-container {text-align: center;}#sk-container-id-3 div.sk-container {/* jupyter's `normalize.less` sets `[hidden] { display: none; }` but bootstrap.min.css set `[hidden] { display: none !important; }` so we also need the `!important` here to be able to override the default hidden behavior on the sphinx rendered scikit-learn.org. See: https://github.com/scikit-learn/scikit-learn/issues/21755 */display: inline-block !important;position: relative;}#sk-container-id-3 div.sk-text-repr-fallback {display: none;}</style><div id=\"sk-container-id-3\" class=\"sk-top-container\"><div class=\"sk-text-repr-fallback\"><pre>RandomForestRegressor(random_state=0)</pre><b>In a Jupyter environment, please rerun this cell to show the HTML representation or trust the notebook. <br />On GitHub, the HTML representation is unable to render, please try loading this page with nbviewer.org.</b></div><div class=\"sk-container\" hidden><div class=\"sk-item\"><div class=\"sk-estimator sk-toggleable\"><input class=\"sk-toggleable__control sk-hidden--visually\" id=\"sk-estimator-id-3\" type=\"checkbox\" checked><label for=\"sk-estimator-id-3\" class=\"sk-toggleable__label sk-toggleable__label-arrow\">RandomForestRegressor</label><div class=\"sk-toggleable__content\"><pre>RandomForestRegressor(random_state=0)</pre></div></div></div></div></div>"
      ],
      "text/plain": [
       "RandomForestRegressor(random_state=0)"
      ]
     },
     "execution_count": 68,
     "metadata": {},
     "output_type": "execute_result"
    }
   ],
   "source": [
    "from sklearn.ensemble import RandomForestRegressor\n",
    "random_forest_reg = RandomForestRegressor(random_state=0)\n",
    "random_forest_reg.fit(X, y.values)"
   ]
  },
  {
   "cell_type": "code",
   "execution_count": 69,
   "id": "b9063b86",
   "metadata": {},
   "outputs": [],
   "source": [
    "y_pred = random_forest_reg.predict(X)"
   ]
  },
  {
   "cell_type": "code",
   "execution_count": 70,
   "id": "cb01517b",
   "metadata": {},
   "outputs": [
    {
     "name": "stdout",
     "output_type": "stream",
     "text": [
      "MYR 3,611,863.47\n"
     ]
    }
   ],
   "source": [
    "error = np.sqrt(mean_squared_error(y, y_pred))\n",
    "print(\"MYR {:,.02f}\".format(error))"
   ]
  },
  {
   "cell_type": "code",
   "execution_count": 71,
   "id": "2bb83841",
   "metadata": {},
   "outputs": [
    {
     "data": {
      "text/html": [
       "<style>#sk-container-id-4 {color: black;background-color: white;}#sk-container-id-4 pre{padding: 0;}#sk-container-id-4 div.sk-toggleable {background-color: white;}#sk-container-id-4 label.sk-toggleable__label {cursor: pointer;display: block;width: 100%;margin-bottom: 0;padding: 0.3em;box-sizing: border-box;text-align: center;}#sk-container-id-4 label.sk-toggleable__label-arrow:before {content: \"▸\";float: left;margin-right: 0.25em;color: #696969;}#sk-container-id-4 label.sk-toggleable__label-arrow:hover:before {color: black;}#sk-container-id-4 div.sk-estimator:hover label.sk-toggleable__label-arrow:before {color: black;}#sk-container-id-4 div.sk-toggleable__content {max-height: 0;max-width: 0;overflow: hidden;text-align: left;background-color: #f0f8ff;}#sk-container-id-4 div.sk-toggleable__content pre {margin: 0.2em;color: black;border-radius: 0.25em;background-color: #f0f8ff;}#sk-container-id-4 input.sk-toggleable__control:checked~div.sk-toggleable__content {max-height: 200px;max-width: 100%;overflow: auto;}#sk-container-id-4 input.sk-toggleable__control:checked~label.sk-toggleable__label-arrow:before {content: \"▾\";}#sk-container-id-4 div.sk-estimator input.sk-toggleable__control:checked~label.sk-toggleable__label {background-color: #d4ebff;}#sk-container-id-4 div.sk-label input.sk-toggleable__control:checked~label.sk-toggleable__label {background-color: #d4ebff;}#sk-container-id-4 input.sk-hidden--visually {border: 0;clip: rect(1px 1px 1px 1px);clip: rect(1px, 1px, 1px, 1px);height: 1px;margin: -1px;overflow: hidden;padding: 0;position: absolute;width: 1px;}#sk-container-id-4 div.sk-estimator {font-family: monospace;background-color: #f0f8ff;border: 1px dotted black;border-radius: 0.25em;box-sizing: border-box;margin-bottom: 0.5em;}#sk-container-id-4 div.sk-estimator:hover {background-color: #d4ebff;}#sk-container-id-4 div.sk-parallel-item::after {content: \"\";width: 100%;border-bottom: 1px solid gray;flex-grow: 1;}#sk-container-id-4 div.sk-label:hover label.sk-toggleable__label {background-color: #d4ebff;}#sk-container-id-4 div.sk-serial::before {content: \"\";position: absolute;border-left: 1px solid gray;box-sizing: border-box;top: 0;bottom: 0;left: 50%;z-index: 0;}#sk-container-id-4 div.sk-serial {display: flex;flex-direction: column;align-items: center;background-color: white;padding-right: 0.2em;padding-left: 0.2em;position: relative;}#sk-container-id-4 div.sk-item {position: relative;z-index: 1;}#sk-container-id-4 div.sk-parallel {display: flex;align-items: stretch;justify-content: center;background-color: white;position: relative;}#sk-container-id-4 div.sk-item::before, #sk-container-id-4 div.sk-parallel-item::before {content: \"\";position: absolute;border-left: 1px solid gray;box-sizing: border-box;top: 0;bottom: 0;left: 50%;z-index: -1;}#sk-container-id-4 div.sk-parallel-item {display: flex;flex-direction: column;z-index: 1;position: relative;background-color: white;}#sk-container-id-4 div.sk-parallel-item:first-child::after {align-self: flex-end;width: 50%;}#sk-container-id-4 div.sk-parallel-item:last-child::after {align-self: flex-start;width: 50%;}#sk-container-id-4 div.sk-parallel-item:only-child::after {width: 0;}#sk-container-id-4 div.sk-dashed-wrapped {border: 1px dashed gray;margin: 0 0.4em 0.5em 0.4em;box-sizing: border-box;padding-bottom: 0.4em;background-color: white;}#sk-container-id-4 div.sk-label label {font-family: monospace;font-weight: bold;display: inline-block;line-height: 1.2em;}#sk-container-id-4 div.sk-label-container {text-align: center;}#sk-container-id-4 div.sk-container {/* jupyter's `normalize.less` sets `[hidden] { display: none; }` but bootstrap.min.css set `[hidden] { display: none !important; }` so we also need the `!important` here to be able to override the default hidden behavior on the sphinx rendered scikit-learn.org. See: https://github.com/scikit-learn/scikit-learn/issues/21755 */display: inline-block !important;position: relative;}#sk-container-id-4 div.sk-text-repr-fallback {display: none;}</style><div id=\"sk-container-id-4\" class=\"sk-top-container\"><div class=\"sk-text-repr-fallback\"><pre>GridSearchCV(estimator=DecisionTreeRegressor(random_state=0),\n",
       "             param_grid={&#x27;max_depth&#x27;: [None, 2, 4, 6, 8, 10, 12]},\n",
       "             scoring=&#x27;neg_mean_squared_error&#x27;)</pre><b>In a Jupyter environment, please rerun this cell to show the HTML representation or trust the notebook. <br />On GitHub, the HTML representation is unable to render, please try loading this page with nbviewer.org.</b></div><div class=\"sk-container\" hidden><div class=\"sk-item sk-dashed-wrapped\"><div class=\"sk-label-container\"><div class=\"sk-label sk-toggleable\"><input class=\"sk-toggleable__control sk-hidden--visually\" id=\"sk-estimator-id-4\" type=\"checkbox\" ><label for=\"sk-estimator-id-4\" class=\"sk-toggleable__label sk-toggleable__label-arrow\">GridSearchCV</label><div class=\"sk-toggleable__content\"><pre>GridSearchCV(estimator=DecisionTreeRegressor(random_state=0),\n",
       "             param_grid={&#x27;max_depth&#x27;: [None, 2, 4, 6, 8, 10, 12]},\n",
       "             scoring=&#x27;neg_mean_squared_error&#x27;)</pre></div></div></div><div class=\"sk-parallel\"><div class=\"sk-parallel-item\"><div class=\"sk-item\"><div class=\"sk-label-container\"><div class=\"sk-label sk-toggleable\"><input class=\"sk-toggleable__control sk-hidden--visually\" id=\"sk-estimator-id-5\" type=\"checkbox\" ><label for=\"sk-estimator-id-5\" class=\"sk-toggleable__label sk-toggleable__label-arrow\">estimator: DecisionTreeRegressor</label><div class=\"sk-toggleable__content\"><pre>DecisionTreeRegressor(random_state=0)</pre></div></div></div><div class=\"sk-serial\"><div class=\"sk-item\"><div class=\"sk-estimator sk-toggleable\"><input class=\"sk-toggleable__control sk-hidden--visually\" id=\"sk-estimator-id-6\" type=\"checkbox\" ><label for=\"sk-estimator-id-6\" class=\"sk-toggleable__label sk-toggleable__label-arrow\">DecisionTreeRegressor</label><div class=\"sk-toggleable__content\"><pre>DecisionTreeRegressor(random_state=0)</pre></div></div></div></div></div></div></div></div></div></div>"
      ],
      "text/plain": [
       "GridSearchCV(estimator=DecisionTreeRegressor(random_state=0),\n",
       "             param_grid={'max_depth': [None, 2, 4, 6, 8, 10, 12]},\n",
       "             scoring='neg_mean_squared_error')"
      ]
     },
     "execution_count": 71,
     "metadata": {},
     "output_type": "execute_result"
    }
   ],
   "source": [
    "from sklearn.model_selection import GridSearchCV\n",
    "\n",
    "max_depth = [None, 2,4,6,8,10,12]\n",
    "parameters = {\"max_depth\": max_depth}\n",
    "\n",
    "regressor = DecisionTreeRegressor(random_state=0)\n",
    "gs = GridSearchCV(regressor, parameters, scoring='neg_mean_squared_error')\n",
    "gs.fit(X, y.values)"
   ]
  },
  {
   "cell_type": "code",
   "execution_count": 72,
   "id": "2595fbbb",
   "metadata": {},
   "outputs": [
    {
     "name": "stdout",
     "output_type": "stream",
     "text": [
      "MYR 1,229,290.78\n"
     ]
    }
   ],
   "source": [
    "regressor = gs.best_estimator_\n",
    "\n",
    "regressor.fit(X, y.values)\n",
    "y_pred = regressor.predict(X)\n",
    "error = np.sqrt(mean_squared_error(y, y_pred))\n",
    "print(\"MYR {:,.02f}\".format(error))"
   ]
  },
  {
   "cell_type": "code",
   "execution_count": 73,
   "id": "a76f5c4f",
   "metadata": {},
   "outputs": [
    {
     "data": {
      "text/html": [
       "<div>\n",
       "<style scoped>\n",
       "    .dataframe tbody tr th:only-of-type {\n",
       "        vertical-align: middle;\n",
       "    }\n",
       "\n",
       "    .dataframe tbody tr th {\n",
       "        vertical-align: top;\n",
       "    }\n",
       "\n",
       "    .dataframe thead th {\n",
       "        text-align: right;\n",
       "    }\n",
       "</style>\n",
       "<table border=\"1\" class=\"dataframe\">\n",
       "  <thead>\n",
       "    <tr style=\"text-align: right;\">\n",
       "      <th></th>\n",
       "      <th>Location</th>\n",
       "      <th>Furnishing</th>\n",
       "      <th>Rooms</th>\n",
       "      <th>Bathrooms</th>\n",
       "      <th>Car Parks</th>\n",
       "      <th>Size</th>\n",
       "    </tr>\n",
       "  </thead>\n",
       "  <tbody>\n",
       "    <tr>\n",
       "      <th>0</th>\n",
       "      <td>28</td>\n",
       "      <td>0</td>\n",
       "      <td>3.0</td>\n",
       "      <td>3.0</td>\n",
       "      <td>2.0</td>\n",
       "      <td>1335.0</td>\n",
       "    </tr>\n",
       "    <tr>\n",
       "      <th>1</th>\n",
       "      <td>14</td>\n",
       "      <td>1</td>\n",
       "      <td>6.0</td>\n",
       "      <td>7.0</td>\n",
       "      <td>0.0</td>\n",
       "      <td>6900.0</td>\n",
       "    </tr>\n",
       "    <tr>\n",
       "      <th>2</th>\n",
       "      <td>18</td>\n",
       "      <td>1</td>\n",
       "      <td>3.0</td>\n",
       "      <td>4.0</td>\n",
       "      <td>2.0</td>\n",
       "      <td>1875.0</td>\n",
       "    </tr>\n",
       "    <tr>\n",
       "      <th>4</th>\n",
       "      <td>9</td>\n",
       "      <td>1</td>\n",
       "      <td>5.0</td>\n",
       "      <td>3.0</td>\n",
       "      <td>2.0</td>\n",
       "      <td>1513.0</td>\n",
       "    </tr>\n",
       "    <tr>\n",
       "      <th>5</th>\n",
       "      <td>46</td>\n",
       "      <td>1</td>\n",
       "      <td>6.0</td>\n",
       "      <td>5.0</td>\n",
       "      <td>4.0</td>\n",
       "      <td>7200.0</td>\n",
       "    </tr>\n",
       "    <tr>\n",
       "      <th>...</th>\n",
       "      <td>...</td>\n",
       "      <td>...</td>\n",
       "      <td>...</td>\n",
       "      <td>...</td>\n",
       "      <td>...</td>\n",
       "      <td>...</td>\n",
       "    </tr>\n",
       "    <tr>\n",
       "      <th>53878</th>\n",
       "      <td>4</td>\n",
       "      <td>0</td>\n",
       "      <td>6.0</td>\n",
       "      <td>4.0</td>\n",
       "      <td>0.0</td>\n",
       "      <td>7168.0</td>\n",
       "    </tr>\n",
       "    <tr>\n",
       "      <th>53879</th>\n",
       "      <td>4</td>\n",
       "      <td>2</td>\n",
       "      <td>5.0</td>\n",
       "      <td>4.0</td>\n",
       "      <td>0.0</td>\n",
       "      <td>15000.0</td>\n",
       "    </tr>\n",
       "    <tr>\n",
       "      <th>53880</th>\n",
       "      <td>4</td>\n",
       "      <td>1</td>\n",
       "      <td>6.0</td>\n",
       "      <td>4.0</td>\n",
       "      <td>0.0</td>\n",
       "      <td>7168.0</td>\n",
       "    </tr>\n",
       "    <tr>\n",
       "      <th>53881</th>\n",
       "      <td>48</td>\n",
       "      <td>2</td>\n",
       "      <td>3.0</td>\n",
       "      <td>2.0</td>\n",
       "      <td>0.0</td>\n",
       "      <td>1150.0</td>\n",
       "    </tr>\n",
       "    <tr>\n",
       "      <th>53882</th>\n",
       "      <td>38</td>\n",
       "      <td>1</td>\n",
       "      <td>4.0</td>\n",
       "      <td>2.0</td>\n",
       "      <td>3.0</td>\n",
       "      <td>1313.0</td>\n",
       "    </tr>\n",
       "  </tbody>\n",
       "</table>\n",
       "<p>49294 rows × 6 columns</p>\n",
       "</div>"
      ],
      "text/plain": [
       "       Location  Furnishing  Rooms  Bathrooms  Car Parks     Size\n",
       "0            28           0    3.0        3.0        2.0   1335.0\n",
       "1            14           1    6.0        7.0        0.0   6900.0\n",
       "2            18           1    3.0        4.0        2.0   1875.0\n",
       "4             9           1    5.0        3.0        2.0   1513.0\n",
       "5            46           1    6.0        5.0        4.0   7200.0\n",
       "...         ...         ...    ...        ...        ...      ...\n",
       "53878         4           0    6.0        4.0        0.0   7168.0\n",
       "53879         4           2    5.0        4.0        0.0  15000.0\n",
       "53880         4           1    6.0        4.0        0.0   7168.0\n",
       "53881        48           2    3.0        2.0        0.0   1150.0\n",
       "53882        38           1    4.0        2.0        3.0   1313.0\n",
       "\n",
       "[49294 rows x 6 columns]"
      ]
     },
     "execution_count": 73,
     "metadata": {},
     "output_type": "execute_result"
    }
   ],
   "source": [
    "X"
   ]
  },
  {
   "cell_type": "code",
   "execution_count": 74,
   "id": "577a7e27",
   "metadata": {},
   "outputs": [
    {
     "data": {
      "text/plain": [
       "array([['bandar damai perdana', 'Fully Furnished', '3', '2', '1', '1500']],\n",
       "      dtype='<U20')"
      ]
     },
     "execution_count": 74,
     "metadata": {},
     "output_type": "execute_result"
    }
   ],
   "source": [
    "# Location, Furnishing, Rooms, Bathrooms, Car Parks, Size\n",
    "X = np.array([[\"bandar damai perdana\", 'Fully Furnished', 3, 2, 1, 1500 ]])\n",
    "X"
   ]
  },
  {
   "cell_type": "code",
   "execution_count": 75,
   "id": "6808f762",
   "metadata": {},
   "outputs": [
    {
     "data": {
      "text/plain": [
       "array([[2.0e+00, 0.0e+00, 3.0e+00, 2.0e+00, 1.0e+00, 1.5e+03]])"
      ]
     },
     "execution_count": 75,
     "metadata": {},
     "output_type": "execute_result"
    }
   ],
   "source": [
    "X[:, 0] = le_locatoin.transform(X[:,0])\n",
    "X[:, 1] = le_furnishing.transform(X[:,1])\n",
    "X = X.astype(float)\n",
    "X"
   ]
  },
  {
   "cell_type": "code",
   "execution_count": 76,
   "id": "c5e23ddd",
   "metadata": {},
   "outputs": [
    {
     "name": "stderr",
     "output_type": "stream",
     "text": [
      "C:\\Users\\Omar Hussein\\anaconda3\\lib\\site-packages\\sklearn\\base.py:450: UserWarning: X does not have valid feature names, but DecisionTreeRegressor was fitted with feature names\n",
      "  warnings.warn(\n"
     ]
    },
    {
     "data": {
      "text/plain": [
       "array([1055516.39556377])"
      ]
     },
     "execution_count": 76,
     "metadata": {},
     "output_type": "execute_result"
    }
   ],
   "source": [
    "y_pred = regressor.predict(X)\n",
    "y_pred"
   ]
  },
  {
   "cell_type": "markdown",
   "id": "e4f70cda",
   "metadata": {},
   "source": [
    "## Saving and Loading the model"
   ]
  },
  {
   "cell_type": "code",
   "execution_count": 77,
   "id": "194bfd86",
   "metadata": {},
   "outputs": [],
   "source": [
    "import pickle\n",
    "data = {\"model\": regressor, \"le_locatoin\": le_locatoin, \"le_furnishing\": le_furnishing}\n",
    "with open('saved_steps.pkl', 'wb') as file:\n",
    "    pickle.dump(data, file)"
   ]
  },
  {
   "cell_type": "code",
   "execution_count": 78,
   "id": "a3ebb3d9",
   "metadata": {},
   "outputs": [],
   "source": [
    "# Loading model to compare the results\n",
    "with open('saved_steps.pkl', 'rb') as file:\n",
    "    data = pickle.load(file)\n",
    "\n",
    "regressor_loaded = data[\"model\"]\n",
    "le_locatoin = data[\"le_locatoin\"]\n",
    "le_furnishing = data[\"le_furnishing\"]"
   ]
  },
  {
   "cell_type": "code",
   "execution_count": 79,
   "id": "41c072e5",
   "metadata": {},
   "outputs": [
    {
     "name": "stderr",
     "output_type": "stream",
     "text": [
      "C:\\Users\\Omar Hussein\\anaconda3\\lib\\site-packages\\sklearn\\base.py:450: UserWarning: X does not have valid feature names, but DecisionTreeRegressor was fitted with feature names\n",
      "  warnings.warn(\n"
     ]
    },
    {
     "data": {
      "text/plain": [
       "array([1055516.39556377])"
      ]
     },
     "execution_count": 79,
     "metadata": {},
     "output_type": "execute_result"
    }
   ],
   "source": [
    "y_pred = regressor_loaded.predict(X)\n",
    "y_pred"
   ]
  }
 ],
 "metadata": {
  "kernelspec": {
   "display_name": "ml",
   "language": "python",
   "name": "ml"
  },
  "language_info": {
   "codemirror_mode": {
    "name": "ipython",
    "version": 3
   },
   "file_extension": ".py",
   "mimetype": "text/x-python",
   "name": "python",
   "nbconvert_exporter": "python",
   "pygments_lexer": "ipython3",
   "version": "3.9.12"
  }
 },
 "nbformat": 4,
 "nbformat_minor": 5
}
